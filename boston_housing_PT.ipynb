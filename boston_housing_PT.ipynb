{
 "cells": [
  {
   "cell_type": "markdown",
   "metadata": {},
   "source": [
    "# Nanodegree Engenheiro de Machine Learning\n",
    "## Modelo de Avaliação e Validação\n",
    "## Projeto 1: Estimando Preços dos Imóveis de Boston\n",
    "\n",
    "Bem-vindo ao primeiro projeto do Nanodegree de Engenheiro de Machine Learning! Neste Notebook, alguns templates de código estão sendo fornecidos para você, e você irá precisar implementar funcionalidades adicionais para completar este projeto com sucesso. Você não vai precisar modificar o código que foi incluído além do que está sendo pedido. Seções que começam com **'Implementação'** no cabeçalho indicam que o bloco de código seguinte vai exigir que você providencie funcionalidade adicional. Instruções serão fornecidas para cada seção e as especificidades da implementação são marcadas no bloco de código com o comando 'TODO'. Não esqueça de ler as instruções atentamente!\n",
    "\n",
    "Além do código implementado, haverá questões relacionadas com o projeto e sua implementação que você deve responder. Cada seção em que há uma questão para você responder, ela será precedida por **'Questão X'** no cabeçalho. Leia cada questão cuidadosamente e dê respostas completas no seguinte box de texto que contém **'Resposta: '**. O projeto enviado será avaliado com base nas respostas para cada uma das questões e a implementação que você nos forneceu.  \n",
    "\n",
    ">**Nota:** Células de Código e de Markdown podem ser executadas utilizando o atalho de teclado **Shift + Enter**. Além disso, as células Markdown podem ser editadas ao clicar normalmente duas vezes na célula para entrar no modo de edição."
   ]
  },
  {
   "cell_type": "markdown",
   "metadata": {},
   "source": [
    "## Começando\n",
    "Neste projeto, você irá avaliar o desempenho e o poder de estimativa de um modelo que foi treinado e testado em dados coletados dos imóveis dos subúrbios de Boston, Massachusetts. Um modelo preparado para esses dados e visto como *bem ajustado* pode ser então utilizado para certas estimativas sobre um imóvel – em particular, seu valor monetário. Esse modelo seria de grande valor para alguém como um agente mobiliário, que poderia fazer uso dessas informações diariamente.\n",
    "\n",
    "O conjunto de dados para este projeto se origina do [repositório de Machine Learning da UCI](https://archive.ics.uci.edu/ml/datasets/Housing). Os dados de imóveis de Boston foram coletados em 1978 e cada uma das 489 entradas representa dados agregados sobre 14 atributos para imóveis de vários subúrbios de Boston. Para o propósito deste projeto, os passos de pré-processamento a seguir foram feitos para esse conjunto de dados:\n",
    "- 16 observações de dados possuem um valor `'MEDV'` de 50.0. Essas observações provavelmente contêm **valores ausentes ou censurados** e foram removidas.\n",
    "- 1 observação de dados tem um valor `'RM'` de 8.78. Essa observação pode ser considerada **valor atípico (outlier)** e foi removida.\n",
    "- Os atributos `'RM'`, `'LSTAT'`, `'PTRATIO'`, and `'MEDV'` são essenciais. O resto dos **atributos irrelevantes** foram excluídos.\n",
    "- O atributo `'MEDV'` foi **escalonado multiplicativamente** para considerar 35 anos de inflação de mercado.\n",
    "\n",
    "** Execute a célula de código abaixo para carregar o conjunto dos dados dos imóveis de Boston, além de algumas bibliotecas de Python necessárias para este projeto. Você vai saber que o conjunto de dados carregou com sucesso se o seu tamanho for reportado. **"
   ]
  },
  {
   "cell_type": "code",
   "execution_count": 17,
   "metadata": {},
   "outputs": [
    {
     "name": "stdout",
     "output_type": "stream",
     "text": [
      "O conjunto de dados de imóveis de Boston tem 489 pontos com 4 variáveis em cada.\n"
     ]
    }
   ],
   "source": [
    "# Importar as bibliotecas necessárias para este projeto\n",
    "import numpy as np\n",
    "import pandas as pd\n",
    "import visuals as vs # Supplementary code\n",
    "from sklearn.model_selection import ShuffleSplit\n",
    "\n",
    "# Formatação mais bonita para os notebooks\n",
    "%matplotlib inline\n",
    "\n",
    "# Executar o conjunto de dados de imóveis de Boston\n",
    "data = pd.read_csv('housing.csv')\n",
    "prices = data['MEDV']\n",
    "features = data.drop('MEDV', axis = 1)\n",
    "# print(prices.head()) \n",
    "# print(features.head())\n",
    "# Êxito\n",
    "print(\"O conjunto de dados de imóveis de Boston tem {} pontos com {} variáveis em cada.\".format(*data.shape))"
   ]
  },
  {
   "cell_type": "markdown",
   "metadata": {},
   "source": [
    "## Explorando os Dados\n",
    "Na primeira seção deste projeto, você fará uma rápida investigação sobre os dados de imóveis de Boston e fornecerá suas observações. Familiarizar-se com os dados durante o processo de exploração é uma prática fundamental que ajuda você a entender melhor e justificar seus resultados.\n",
    "\n",
    "Dado que o objetivo principal deste projeto é construir um modelo de trabalho que tem a capacidade de estimar valores dos imóveis, vamos precisar separar os conjuntos de dados em **atributos** e **variável alvo**. O **atributos**, `'RM'`, `'LSTAT'` e `'PTRATIO'`, nos dão informações quantitativas sobre cada ponto de dado. A **variável alvo**, `'MEDV'`, será a variável que procuramos estimar. Eles são armazenados em `features` e ` prices`, respectivamente."
   ]
  },
  {
   "cell_type": "markdown",
   "metadata": {},
   "source": [
    "### Implementação: Calcular Estatísticas\n",
    "Para a sua primeira implementação de código, você vai calcular estatísticas descritivas sobre preços dos imóveis de Boston. Dado que o `numpy` já foi importado para você, use essa biblioteca para executar os cálculos necessários. Essas estatísticas serão extremamente importantes depois para analisar várias estimativas resultantes do modelo construído.\n",
    "\n",
    "Na célula de código abaixo, você precisará implementar o seguinte:\n",
    "- Calcular o mínimo, o máximo, a média, a mediana e o desvio padrão do `'MEDV'`, que está armazenado em `prices`.\n",
    "  - Armazenar cada cálculo em sua respectiva variável."
   ]
  },
  {
   "cell_type": "code",
   "execution_count": 3,
   "metadata": {},
   "outputs": [
    {
     "name": "stdout",
     "output_type": "stream",
     "text": [
      "Estatísticas para os dados dos imóveis de Boston:\n",
      "\n",
      "Preço mínimo: $105,000.00\n",
      "Preço máximo: $1,024,800.00\n",
      "Preço médio: $454,342.94\n",
      "Preço mediano: $438,900.00\n",
      "Desvio padrão dos preços: $165,171.13\n"
     ]
    }
   ],
   "source": [
    "# TODO: Preço mínimo dos dados\n",
    "minimum_price = np.min(prices)\n",
    "\n",
    "# TODO: Preço máximo dos dados\n",
    "maximum_price = np.max(prices)\n",
    "\n",
    "# TODO: Preço médio dos dados\n",
    "mean_price = np.mean(prices)\n",
    "\n",
    "# TODO: Preço mediano dos dados\n",
    "median_price = np.median(prices)\n",
    "\n",
    "# TODO: Desvio padrão do preço dos dados\n",
    "std_price = np.std(prices)\n",
    "\n",
    "# Mostrar as estatísticas calculadas\n",
    "print(\"Estatísticas para os dados dos imóveis de Boston:\\n\")\n",
    "print(\"Preço mínimo: ${:,.2f}\".format(minimum_price))\n",
    "print(\"Preço máximo: ${:,.2f}\".format(maximum_price))\n",
    "print(\"Preço médio: ${:,.2f}\".format(mean_price))\n",
    "print(\"Preço mediano: ${:,.2f}\".format(median_price))\n",
    "print(\"Desvio padrão dos preços: ${:,.2f}\".format(std_price))"
   ]
  },
  {
   "cell_type": "markdown",
   "metadata": {},
   "source": [
    "### Questão 1 - Observação de Atributos\n",
    "Para lembrar, estamos utilizando três atributos do conjunto de dados dos imóveis de Boston: `'RM'`, `'LSTAT'` e `'PTRATIO'`. Para cada observação de dados (vizinhança):\n",
    "- `'RM'` é o número médio de cômodos entre os imóveis na vizinhança.\n",
    "- `'LSTAT'` é a porcentagem de proprietários na vizinhança considerados de \"classe baixa\" (proletariado).\n",
    "- `'PTRATIO'` é a razão de estudantes para professores nas escolas de ensino fundamental e médio na vizinhança.\n",
    "\n",
    "**Usando a sua intuição, para cada um dos atributos acima, você acha que um aumento no seu valor poderia levar a um _aumento_ no valor do `'MEDV'` ou uma _diminuição_ do valor do `'MEDV'`? Justifique sua opinião para cada uma das opções.**  \n",
    "\n",
    "**Dica:** Você pode tentar responder pensando em perguntas como:\n",
    "* Você espera que um imóvel que tem um valor `'RM'` de 6 custe mais ou menos que um imóvel com valor `'RM'` de 7?\n",
    "* Você espera que um imóvel em um bairro que tem um valor `'LSTAT'` de 15 custe mais ou menos que em um bairro com valor `'LSTAD'` de 20?\n",
    "* Você espera que um imóvel em um bairro que tem um valor `'PTRATIO'` de 10 custe mais ou menos que em um bairro com `'PTRATIO'` de 15?"
   ]
  },
  {
   "cell_type": "markdown",
   "metadata": {},
   "source": [
    "**Resposta: **\n",
    "\n",
    "RM: Um 'RM' maior leva a um preço maior do imóvel pois quanto mais comodos, mais caro é um imóvel.\n",
    "\n",
    "LSTAT: Um 'LSTAT' leva a um preço menor dos imóveis, pois um local onde a renda geral das pessoas é mais baixa, também haverão imóveis mais baratos.\n",
    "\n",
    "PTRATIO: Um 'PTRATIO' mair elevado me leva a acreditar que tem poucas escolas na região, fazendo com que o preço dos imóveis seja menor."
   ]
  },
  {
   "cell_type": "markdown",
   "metadata": {},
   "source": [
    "----\n",
    "\n",
    "## Desenvolvendo um Modelo\n",
    "Na segunda seção deste projeto, você vai desenvolver ferramentas e técnicas necessárias para um modelo que faz estimativas. Ser capaz de fazer avaliações precisas do desempenho de cada modelo através do uso dessas ferramentas e técnicas ajuda a reforçar a confiança que você tem em suas estimativas."
   ]
  },
  {
   "cell_type": "markdown",
   "metadata": {},
   "source": [
    "### Implementação: Definir uma Métrica de Desempenho\n",
    "É difícil medir a qualidade de um modelo dado sem quantificar seu desempenho durante o treinamento e teste. Isso é geralmente feito utilizando algum tipo de métrica de desempenho, através do cálculo de algum tipo de erro, qualidade de ajuste, ou qualquer outra medida útil. Para este projeto, você irá calcular o [*coeficiente de determinação*](https://pt.wikipedia.org/wiki/R%C2%B2), R<sup>2</sup>, para quantificar o desempenho do seu modelo. O coeficiente de determinação é uma estatística útil no campo de análise de regressão uma vez que descreve o quão \"bom\" é a capacidade do modelo em fazer estimativas. \n",
    "\n",
    "Os valores para R<sup>2</sup> têm um alcance de 0 a 1, que captura a porcentagem da correlação ao quadrado entre a estimativa e o valor atual da **variável alvo**. Um modelo R<sup>2</sup> de valor 0 sempre falha ao estimar a variável alvo, enquanto que um modelo R<sup>2</sup> de valor 1, estima perfeitamente a variável alvo. Qualquer valor entre 0 e 1 indica qual a porcentagem da variável alvo (ao utilizar o modelo) que pode ser explicada pelos **atributos**. *Um modelo pode dar também um R<sup>2</sup> negativo, que indica que o modelo não é melhor do que aquele que estima ingenuamente a média da variável alvo.*\n",
    "\n",
    "Para a função ‘performance_metric’ na célula de código abaixo, você irá precisar implementar o seguinte:\n",
    "- Utilizar o `r2_score` do `sklearn.metrics` para executar um cálculo de desempenho entre `y_true` e `y_predict`.\n",
    "- Atribuir a pontuação do desempenho para a variável `score`."
   ]
  },
  {
   "cell_type": "code",
   "execution_count": 6,
   "metadata": {},
   "outputs": [],
   "source": [
    "# TODO: Importar 'r2_score'\n",
    "from sklearn.metrics import r2_score\n",
    "\n",
    "def performance_metric(y_true, y_predict):\n",
    "    \"\"\" Calcular e retornar a pontuação de desempenho entre \n",
    "        valores reais e estimados baseado na métrica escolhida. \"\"\"\n",
    "    \n",
    "    # TODO: Calcular a pontuação de desempenho entre 'y_true' e 'y_predict'\n",
    "    score = r2_score(y_true, y_predict)\n",
    "    \n",
    "    # Devolver a pontuação\n",
    "    return score"
   ]
  },
  {
   "cell_type": "markdown",
   "metadata": {},
   "source": [
    "### Questão 2 - Qualidade do Ajuste\n",
    "Admita que um conjunto de dados que contém cinco observações de dados e um modelo fez a seguinte estimativa para a variável alvo:\n",
    "\n",
    "| Valores Reais | Estimativa |\n",
    "| :-------------: | :--------: |\n",
    "| 3.0 | 2.5 |\n",
    "| -0.5 | 0.0 |\n",
    "| 2.0 | 2.1 |\n",
    "| 7.0 | 7.8 |\n",
    "| 4.2 | 5.3 |\n",
    "\n",
    "** Executar a célula de código abaixo para usar a função `performance_metric’ e calcular o coeficiente de determinação desse modelo. **"
   ]
  },
  {
   "cell_type": "code",
   "execution_count": 8,
   "metadata": {},
   "outputs": [
    {
     "name": "stdout",
     "output_type": "stream",
     "text": [
      "O coeficiente de determinação, R^2, do modelo é 0.923.\n"
     ]
    }
   ],
   "source": [
    "# Calcular o desempenho deste modelo\n",
    "score = performance_metric([3, -0.5, 2, 7, 4.2], [2.5, 0.0, 2.1, 7.8, 5.3])\n",
    "print(\"O coeficiente de determinação, R^2, do modelo é {:.3f}.\".format(score))"
   ]
  },
  {
   "cell_type": "markdown",
   "metadata": {},
   "source": [
    "* Você consideraria que esse modelo foi capaz de capturar a variação da variável alvo com sucesso? Por que ou por que não?\n",
    "\n",
    "** Dica: **\n",
    "* R2 score com valor 0 significa que a variável dependente não pode ser estimada pela variável independente.\n",
    "* R2 score com valor 1 significa que a variável dependente pode ser estimada pela variável independente.\n",
    "* R2 score com valor entre 0 e 1 significa quanto a variável dependente pode ser estimada pela variável independente.\n",
    "* R2 score com valor 0.40 significa que 40 porcento da variância em Y é estimável por X."
   ]
  },
  {
   "cell_type": "markdown",
   "metadata": {},
   "source": [
    "**Resposta:**\n",
    "\n",
    "Sim, considero que esse modelo foi capaz de capturar a variacão da variavel com sucesso, por que R2 é igual a 0.923, significa que 92,3% da variância em Y é estimável por X."
   ]
  },
  {
   "cell_type": "markdown",
   "metadata": {},
   "source": [
    "### Implementação: Misturar e Separar os Dados\n",
    "Sua próxima implementação exige que você pegue o conjunto de dados de imóveis de Boston e divida os dados em subconjuntos de treinamento e de teste. Geralmente os dados são também misturados em uma ordem aleatória ao criar os subconjuntos de treinamento e de teste para remover qualquer viés (ou erro sistemático) na ordenação do conjunto de dados.\n",
    "\n",
    "Para a célula de código abaixo, você vai precisar implementar o seguinte:\n",
    "- Utilize `train_test_split` do `sklearn.cross_validation` para misturar e dividir os dados de `features` e `prices` em conjuntos de treinamento e teste. (se estiver com a versão do scikit-learn > 0.18, utilizar o `sklearn.model_selection`. Leia mais [aqui](http://scikit-learn.org/0.19/modules/generated/sklearn.cross_validation.train_test_split.html))\n",
    "  - Divida os dados em 80% treinamento e 20% teste.\n",
    "  - Mude o `random_state` do `train_test_split` para um valor de sua escolha. Isso garante resultados consistentes.\n",
    "- Atribuir a divisão de treinamento e teste para X_train`, `X_test`, `y_train` e `y_test`."
   ]
  },
  {
   "cell_type": "code",
   "execution_count": 21,
   "metadata": {},
   "outputs": [
    {
     "name": "stdout",
     "output_type": "stream",
     "text": [
      "Separação entre treino e teste feita com êxito.\n"
     ]
    }
   ],
   "source": [
    "# TODO: Importar 'train_test_split'\n",
    "from sklearn.model_selection import train_test_split\n",
    "# TODO: Misturar e separar os dados em conjuntos de treinamento e teste\n",
    "X_train, X_test, y_train, y_test = train_test_split(features, prices, test_size=0.20, random_state=33)\n",
    "\n",
    "# Êxito\n",
    "print(\"Separação entre treino e teste feita com êxito.\")"
   ]
  },
  {
   "cell_type": "markdown",
   "metadata": {},
   "source": [
    "### Questão 3 - Treinamento e Teste\n",
    "* Qual o benefício de separar o conjunto de dados em alguma relação de subconjuntos de treinamento e de teste para um algoritmo de aprendizagem?\n",
    "\n",
    "**Dica:** O que pode dar errado se não houver uma maneira de testar seu modelo?"
   ]
  },
  {
   "cell_type": "markdown",
   "metadata": {},
   "source": [
    "**Resposta: **\n",
    "\n",
    "O beneficio de dividir o dataset em subconjuntos de teste e treinamento é que podemos ter noção se nosso modelo está ou não prevendo corretamente, podemos validá-lo. 
Além disso se usarmos um conjunto de dados muito grande para treinamento, podemos ter overfitting e o nosso modelo não conseguirá generalizar bem.
Da mesma forma se usarmos um conjunto de dados muito pequeno nosso modelo poderá sofrer underfitting.
Podemos corrigir os dois problemas acima dividindo de maneira coerente o conjunto de dados em teste e treinamento, e isso depende do tamanho do dataset."
   ]
  },
  {
   "cell_type": "markdown",
   "metadata": {},
   "source": [
    "----\n",
    "\n",
    "## Analisando o Modelo de Desempenho\n",
    "Na terceira parte deste projeto, você verá o desempenho em aprendizagem e teste de vários modelos em diversos subconjuntos de dados de treinamento. Além disso, você irá investigar um algoritmo em particular com um parâmetro `'max_depth'` (profundidade máxima) crescente, em todo o conjunto de treinamento, para observar como a complexidade do modelo afeta o desempenho. Plotar o desempenho do seu modelo baseado em critérios diversos pode ser benéfico no processo de análise, por exemplo: para visualizar algum comportamento que pode não ter sido aparente nos resultados sozinhos."
   ]
  },
  {
   "cell_type": "markdown",
   "metadata": {},
   "source": [
    "### Curvas de Aprendizagem\n",
    "A célula de código seguinte produz quatro gráficos para um modelo de árvore de decisão com diferentes níveis de profundidade máxima. Cada gráfico visualiza a curva de aprendizagem do modelo para ambos treinamento e teste, assim que o tamanho do conjunto treinamento aumenta. Note que a região sombreada da curva de aprendizagem denota a incerteza daquela curva (medida como o desvio padrão). O modelo é pontuado em ambos os conjuntos treinamento e teste utilizando R<sup>2</sup>, o coeficiente de determinação.  \n",
    "\n",
    "**Execute a célula de código abaixo e utilizar esses gráficos para responder as questões a seguir.**"
   ]
  },
  {
   "cell_type": "code",
   "execution_count": 22,
   "metadata": {
    "scrolled": false
   },
   "outputs": [
    {
     "data": {
      "image/png": "iVBORw0KGgoAAAANSUhEUgAAAsgAAAIKCAYAAAA+i7nJAAAABHNCSVQICAgIfAhkiAAAAAlwSFlzAAALEgAACxIB0t1+/AAAADl0RVh0U29mdHdhcmUAbWF0cGxvdGxpYiB2ZXJzaW9uIDIuMi4zLCBodHRwOi8vbWF0cGxvdGxpYi5vcmcvIxREBQAAIABJREFUeJzsnXd8HcXVv59zu6rlbhkwEDCEhI5DC/CDhF7zAqGTEHreBMLr0DEYCDUESEJeICR0CC2ENzihl0CAOMH0arANLtiWi2RJV+W2nd8fs3u1t0i6klUs6Tz67Gd3Z2d3ZovmfvfsmTNijEFRFEVRFEVRFEtgsCugKIqiKIqiKOsSKpAVRVEURVEUxYcKZEVRFEVRFEXxoQJZURRFURRFUXyoQFYURVEURVEUHyqQFUVRFEVRFMWHCmRlnUJEThIR45taRORLEXlCRI4SkX57ZkXkchHpUdxDEfmHiPyjn6pUrLx78q5PZ9OeA1WnLup6XV6d2kXkQxH5HxGRwa7fUMW9runBrkdPEJGY+wxcOAhlz/Y9g46ILBWRv4vIDv1Q1kwRWSwiGRGZ3dfHVxRl4AgNdgUUpRO+DywBosAU4CDgIeB0ETnEGNPWD2X+EXimh/v8dz/Uoyt+AdzuWz8VOAXYDcj40j8eyEp1QQZbN4Cx2PreBCSB/x2sSikDTgLYBVg0SOW/CZwNCLAxcCnwqohsY4yZ1xcFiMgewOXA1cBTQGNfHFdRlMFBBbKyrvJu3g/X/SLyGPAY8EvgrL4u0BizBCvKe7LPgApRY8x8YL63LiL7u4v/NsZ0a1UUkagxJtFf9SuGMSZrSRORZ4HPgNMYYIE8GOfeW9b1uopIEJBSnjkAY0ekGkyLapPvOfyXiLwFfAqcDpy/Ngf23ast3KRbjTFL1+aYecdVFGUQUBcLZchgjHkc+CtwmoiUe+kiUi4i14vIFyKSdOeX5LtjiMh4EbnV/QSacOf3i0jU3V7gYiEiPxORT0SkTUQaRGSOiPyXb3uBi4WIbO66hKxx95vtE7JensvdT75T3c+9cRFZKCKX9ZUbiYjs75ZxiOuasRpY6Nu+g4j8zVfPV0VklyLH2ds9z7g7/V1EtsjPVwquoPoA+1Ugv5xS63OeiCxy8/xLRL4lIstF5HZfnjPdc9/FvReNwCs9OScROdi9d00i0uw+Bxf6tn9DRJ4UkZWu+8hCEXkk7xjfEJFZItLo1vd1EfluXp7rRCQtIluKyIsiEgfu6/nVLbhOR4vIf0Sk1X12HxaR9fLy/EBEXnHPoVlE3hKR4/LyeO4Rl4nIpSKyEPsFYKrvGdtfRH4vIvUissJ93qqLHMN//bzznioiz4p1p/pCRC4SyXXBEZEdReQN9zovEpFz3f3be3NtjDFzgWZgU18ZE0XkDyKyTGz78LGI/CivHkWfK7HuFN7z95X/XEWkRkRuc5/RpIh8KiI/zTtup/+rvuv0dRF5wb2fX4rI8e72k0XkM/c5fkFENsw7dk/u8QwR+bn7LDe7z+Pm+ddPrLvbbPeeNbnLB/i2h91n5TP3Wi4R20ZH8vJcKyIL3Pu6UkT+KSI7lX4nFaX/UAuyMtR4CvgeMA37iTQEPAt8A+t+8AGwM/YT6hjg5wAiMhp4w027CngfmAAcBkSwn4BzcH+AbgSuBP4JlAFbu8coiohMBl7D/vj+FPuZ9SfA30XkYGPM03m7PAHcDdwMHAJcASx20/qK24FZwLFAzK3nzsDLWKveKUC7W9+XRGRHY8wHbr7DsVb7J4DjgCBwEfbab22MWdaL+myEzwrew/r8FPsF4fdunTZz61fZSVmPAA8Av3PrXtI5icjXgb8AfwJmAmlgKrCBewwBnsZ+cTgDWA2sDxzsO6cNgdeBlcCPgTjwM+BZEdnXGPOS/xJgX/7uwD6ffneZHiMi52BdWf7g1r8G+xy/LCLbGmNa3awbAw8D3teavbBfayLGmHvyDnsGMBc4B3t/VgCeGLsV+D/gaGBL4Drs/9QZ3VUVe53vBG4ADgeuAb7EulQhIrXAC8AXwAnYa3MesF7h4UpDRMYBVcAad3008C938wysK8hBwJ0iEjLG/CHvEPnP1VfAj7DtzUFAPbAor32agbVaHwbcIiJjjDFX5h234H/VqzL2mb0d+/yfjb1PWwK7utejDPgNcD+wh2/fntzjU4GPsP975cCvgCdEZEtjjONeq3Ox9+ox4HqgDdiBjmcB4FFgH+y9/A/2mbgS+z9yvJvnMmzbeBHwITAK2JEu2ldFGVCMMTrptM5MwEmAATbtZPt+7vaj3fUT3fU98vJdgrVyTXDXr8T+sG7XRdmX434Ndtd/B7zdTX3/AfzDt/4rrJja1JcWxAqLt/PLAn6Ud7wPgOd6cL2844SKbNvf3fZQkW2vA+/59wPCWOH6sLsewIr1p/L2HYMVFtd1U7fr3GsRcqeJbn1TwAG9qE8YWA78JW/f49zzvN2Xdqabdm1e3pLOCSvEHCDaybmt7x5/3y7O/3dYkTgl75y+AN7Iu04GOKPEe34dkO5iew3Qgv3U70/fzL0fZ3ayX8C9T/djXXa89Jhbv4VApJNn7Pd56X/EujXkH+PCIud9rC9NsC44T/rSbsKKsIm+tEqsCG0v4XrNBl50zy3sXoen3LL3d/Nc7V6zjfL2vR9YCgS6eq7cbT91t03ypR3pph2Tl/cBoBUYVcL/qnedjvKlTXDT6oAKX/r5bvrETq5Fd/f4IyDoSz/BTd/eXR/r3os/dXG998mvr5t+ipu+hbv+QlfH0UmnwZ7UxUIZanifXj1XiP2xP9xviEjIm4DnsD+GO7v59gXeNMa804Oy3gS2FZFbxH6SL+92D2u5mW18/tPGmAzWGrat+D47u/w9b/1DirgfrCVP+FfcOuyCtYLhu2YGeIkO69M3sULwgbxr24S9Nn4rVWcEsYI4hRW3M4HpxmdJ70F9NsaK7Mfyynicjuehy3PvwTm9jRXIj4nI4a7F0c9yrPX4VyJyiohsUqTsPYB/GmOyHdOMMSn3PHcUkVhe/vy69pbdsda/B/POcYE7Ze+biGwhIo+KyFKseE5hRVHBZ3Xg78aYZCdl5j/HHwBVIlJTQn2z+xpjPJHm/x/YGXjVGFPnyxenZx1qv4M9tyT2ZXV74BRjjHeM/bFffpbkXbNngVp8rhgupd6rPdwy85/ZB7AW3x17cNzs/4wxZgXQALxmjGnx5fnUnW/gJfTwHj/rtlceH7hz737sjhXTd3RRz/2xLxt/LdIme8cA+//2PRG5UkR2FZFwF8dUlAFHBbIy1PAafu/T/gTsp71U3vQfd/tY37xHHfCwfqA/BnbC/lDWi8hfRGSjLvYZ46ubn+VYcT86L70+bz1B7qfVviC/PuPdulxN4XU7lY5rNsGdP1gk396+fF2RAb6FFQJHYF1bbpZc3+JS61Przlf4CzC2I1NnEQPyz72kczK28+UB2HvxJ6BOrP/wt93taazoeh/7uXmeiMwTkVN8ZXX1LASxn5Q9HFf09AXeOb5G4TlOxT1HV7w+D3wd+4l+N+y9epDiz2BX7jTFnmM6OY6fjDGmqci+/v1qybvnLnVF0jrjP9hz2wH7glRrjLnLt30C9iU6/3rd727Pf9ZLdS0aA6zIE51gnwFveynHzRhjmvPSkliRnJ8GHa5UPb3H3d1H7zp01ZZOACqwbjj+a+m9KHrHuBz7P38k9gvSKrE+4PltpKIMCuqDrAw1DsI2vG+566uxn6yP6iT/l+58FT30WXStWb8Hfu822vtifZIfwYrmYtQDk4qkT8JaOfN/gAaCfOuqV4cbsb6JneVf7c5/DrxaJF9JHaSMMXPcxTdF5A2slesWrB95T+rjfynKIraT5SiKk3/uJZ+TMeZ54HnX0rsbbvguEZlijGk0xnwOnCC2U+W2WN/cP4rIAmPMy3T9LGRw/V87qefa4J3jccDnRbZ7gnR37P/E93z3iC4seX1Zx56wjLx77jKxB8do9p9jEVZjfXTP62T7p3nrpV6LemC8iASM68Pr4j0Xq/Py9/U17uk97o5V7nw9Onya81mN7YPxnU62fwXZF9urgatdP/NDsW1ABPhhL+unKH2GCmRlyOB2rjoU+I3p6GT0DNYyGTfG5P+I+XkOmCE27ul7PS3bGNMAPOL2sO6q49ErwDkispEx5ku33kFs56V3iliBBhxjTIOI/Bvb4fA890WgGB9g/S+3MMbc1EdlLxeRa4DrxcazntWD+nyBtRp+H7cDl8uRdLjedEePz8kY0w68ICJjsC9HU+j49IwrfN52Oy+diO2Q9DL2WThNRCYbN+yX+6n5KKz/Z3+F8HoV6yf6NWPMQ13k81yGUl6CiEwADuynevWW2cCPRWSi52YhIpXYT/l9xTPY/g8LjDF9+RL7CjYk5X9hXYE8jsfeozf7sKxi9PU9/ie23qfjiwqTxzPYzqhRY8zrpRzU2M6+vxeRw7D/P4oy6KhAVtZVtnX9PiNYQXIwVhg9j+317PEgtvf4iyJyI7ajVwTYBCumv+eK6ZuxFrUXROQqrMAZh+1RfmYx4Soid2AtIf/CfuLdDCuAnsvP6+Nm7A/t8yIyE2ut+29334N6fBX6j3Ow/r1Picg92E++47FW3ZQx5lJjTMaNGvGY63/9ONY6NAn4NvCZMeZ3vSj7d8B0bKSRWT2oT8q9d7eIyG10RLE4F+vz6NANpZ6TiJyN/RT9DPZz8njgYuxn4k9FZEdsD/1HsR0Jw1h3kCS24ybYDpsnYJ/NK9w6no19nk/t4TXLR0TkyCLpS4wxs8WGGLtRbFSVZ7HP8XrYCAZPG2P+jBU7LVhhciVQjY0sUId1Q1hXuAEbN/s5EfkF1o/2fGxUkL5yR/ol9kXrNRH5NbajYBU2tvFOxpgjenncv2LdO+5y78VcbLt0AjDTGNPfg4n06T02xtSLyGXADe6Xk0ewnQ23AxqNMbcbY54Rkb9gfZBvAjzL9cbYNvAsY8xCEXka+DfwDvZryjSs1fnm3p+uovQdKpCVdRWvU4sXTupt4Bjgz34Loyua9gMuxFo1Nsb+IMzHdv5JuvnWuP6jV7l5x2J/JF6iw28vn9ex4vtE7Cf8pdjONTM7q7QxZqmI7IYNf3QbdiTAd4GDfB2CBh1XRO2E/bH8HfaHcwX2x+w2X74nRGQvrDi8E9uxaBn2peGBXpbd6lqRfyMiBxhjnu5BfX7nCtuzsPfmPWxIrBcpceSyEs/pHWxv/Oux4ng11mLmCfWv3H28cGNtWH/kA40bks4VAbthoxDcgRXR72AjJ/hDvPWGAIUdv8AK/iONMb8VG694OvADOkKRvYJr/Xaf1SOw4vBx7IvATVif/nPWsn59hrFh9/YGfo19IV6BHWRmI+wLbl+UUe8+fzOxEXBqsf69n+J2Hu3lcdNu+3Sde9wx2I6SZ/Xy5bKn5ff5PTbG/Mp9/qdjv+QksR0rr/BlO8o9/knY/+l27BegZ+lwK3kVG7LzbOyLziJs+3xdb+qlKH2NdP41U1EUZd1HRHbH/tgeZYwpJhqVYYbrQ/s+1iViXfoyoyjKMEEtyIqiDBlEZDOse4I3GMuWWEvwZ8CTg1g1pR8RkWuBT7BWxnHYfgCbYweaUBRF6XNUICuKMpRow0aM+BF2QIx6rE/4Bf3Y6U0ZfALYsGCTsRFA3gUO7gNXFUVRlKKoi4WiKIqiKIqi+NCBQhRFURRFURTFhwpkRVEURVEURfGhAllRFEVRFEVRfKhAVhRFURRFURQfKpAVRVEURVEUxYcKZEVRFEVRFEXxoQJZURRFURRFUXyoQFYURVEURVEUHyqQFUVRFEVRFMWHCmRFURRFURRF8aECWRlwRGRPEVnST8feSESMiIT64/iKogxvtH1SFAVUICtDHBH5UkT2HoRyjxKRN0SkVUT+MdDlK4qy7jOI7dMvRWSxiDSJyEIRuWSg66AoQx0VyIrSO+qBXwPXDXZFFEVR8rgT+LoxphrYFThORA4f5DopypBCBfIIwLVinCci74tIi4jcKSITReRpEWkWkRdEZLQv/2MislxEGkXkVRH5ppseEZF3ReQsdz0oIq+LyGXdlF8mIveISIOIfAx8K2/7ZBF5XERWisgXInK2b9vlIvJnEXnErevbIrKNu+1+YAowS0TiInK+77DHi8giEVnVH9YTY8wLxphHgaV9fWxFGUlo+9Qv7dNcY0yLL8kBNu3rchRlOKMCeeRwBLAPsBlwCPA0cDEwDvscnO3L+zQwFZgAvA08CGCMSQInAFeKyBbAhUAQuLqbsmcCm7jTfsAPvQ0iEgBmAe8B6wHfBc4Rkf18+x8GPAaMAf4E/J+IhI0xJwKLgEOMMZXGmF/69tkN2Nw93mVufQsQkQtFZE1nUzfnpShK36DtUxHWpn1y940DS4AKt26KopSKMUanYT4BXwLH+9YfB27zrZ8F/F8n+9YABhjlS/s58CnQAEwtofwFwP6+9dOBJe7yTsCivPwXAXe7y5cDs33bAsAyYHffue3t276RW9/1fWn/AY7pp2t7KvCPwb7HOuk0VCdtn/q1fRJgO+AKoGqw77VOOg2lSS3II4c633JbkfVKyH6WvE5E5otIE7aBB2vJ8bgX29A/ZYz5vISyJwOLfesLfcsbApPzrCIXAxN9ebL7GmMcrEVkcjdlLvctt+Ken6Io6yTaPvUDxvIO9hpe0R9lKMpwRQWyks9x2E+GewOjsD80YC0RHrcCfwP2E5HdSjjmMmAD3/oU3/Ji4AtjTI1vqjLGHOjLk93X/eS5Ph2+v6aE8jtFRC52/QOLTmtzbEVR+hxtn3rXPoWwLiSKopSICmQlnyogAawGyoFr/BtF5ERgB+AkrF/gvSLSnfXjUeAiERktIutjP5l6/AdoEpEL3M4yQRHZUkT8HWV2EJHDxcYOPcet32x3Wx3wtd6cKIAx5hpj/QOLTp3t59Yzhv3hCYhITETCva2Hoigloe1TN+2TiARE5Az3fEREdgR+ArzY23ooykhEBbKSz33YT4xfAR/T0dAjIlOwoc1+YIyJG2P+BMwBbu7mmFe4x/wCeA6439tgjMlgO+Vs625fBfwRax3y+CtwNNan8ETgcGNMyt12LTDD/fx5bm9OuJeciP1seRuwu7v8hwEsX1FGIto+lcZ/AfOBZuAB4BZ3UhSlRMSYtfoCpCj9iohcDmxqjDlhsOuiKIriR9snRRm+qAVZURRFURRFUXyoQFb6BLFB/Yt1JLl4sOumKMrIRtsnRVF6irpYKIqiKIqiKIoPtSAriqIoiqIoio/QYFegp4wbN85stNFGg10NRVH6iLfeemuVMWb8YNejL9D2SVGGF8OpfVJ6Rr+5WIjIXcDBwApjzJZFtgvwG+BA7EhCJxlj3u7uuNOiUTMnlYIpU+Dqq+H44/u66oqiDCAi8pYxZtoAl6ntk6Io3TIY7ZOybtCfLhb3APt3sf0AYKo7nY6NJ9s9ySQYAwsXwumnw4MPrm09FUUZedyDtk+KoihKJ/SbQDbGvArUd5HlMOA+d6z42UCNiNT2qJDWVrjkkrWopaIoIxFtnxRFUZSuGMxOeuthx7n3WOKmFSAip4vIHBGZU7Bx0aL+qZ2iKCOZvmuf2tr6p4aKoihKvzGYAlmKpBV1iDbG3GGMmVbUD2jKlL6ul6IoSt+0T8ZATQ3svjvMnAmvvWbdMBRFUZR1msGMYrEE2MC3vj6wtEdHCIdtRxhFUZS+Ze3bp7Iy20mvpQX+/W+48ko7VVfDjjvCHnvAvvvC5ptDLAaRCAQ08qaiKMq6wGAK5CeBn4rIw8BOQKMxZlm3e0UikEpBNArt7SDFDD2Koihrxdq1T/4oFuk0NDfDxx/DSy/Bm2/a6YUX4LLLoLYWvvUtO+2xB2ywAVRWWtEcjVpDgLZziqIoA0q/CWQReQjYExgnIkuAmUAYwBhzO/AUNoTSPGwYpR+VdOCttoI5c2wHmJ13hlNOgcmTYc89+/4kFEUZlvR7++QnFILRo+Hb37YiuLERli2DTz+Ft96y08svw5NP2vybb94hmLfd1lqiKyqgqsrOo1ErxMPhPrgSiqIoSjGG3FDT06ZNM3O8H6CvvrI/IskkvPoqfOMbg1s5RVF6zHCKM5rTPnVHWxs0NEBdnXXDmD8f3n4bZs+Gd96xluhwGLbfHnbaCaZNg002gWDQWpSDQSuaKyuhvNyK5kikY7uiKGvNcGqflJ4x5EbSy2G99azVZc894dBD4ZVXbJqiKMq6TlmZnWprrUCeMsW+5B93HGQy1iXjX/+CN96A3/7W7lNdbb+c7bKLFc2hEDzyCNx6qxXaEyfCj38Mhx1mLc3RaId4DoXsFA6riFYURemGoS2QwVpV7rkHjjkGvv99+NvfYMyYwa6VoihKaYhYK3BlJay/vvVXXrnSitmttoKf/cwK6NmzrVh+4w147jm7b02NzZ/J2PXly+Haa63/8gEHWFe0VavAcWw5xnQIY09Ax2JWqKuIVhRFyTL0BTLAkUfa3uGXXGJHr7rrLmtpURRFGUoEAjBqlJ3SaeuvvGKFFaq77gr77GPF66JF8PrrcP31HeLYo70dLr4Y7rvP+j7X1OTOveWqKttOVlTYYzpOxzHyRXRZWUekDU9AP/YYzJgBixfr0NqKogw7hodABrjgApg3D+6+2/YCv/JK+wOgKIoyFAmFYOxYOyUSHZ37WlqswD3qKNvOFSOTgXHjrI/zokV23tzceVllZYVCuqbGCvXq6g4xXVVl0998E2680YpxsENrn3qqtWAffrgV+p41OhSygjsQsJN/OX9dpDSr9YMPWoPIokUqzhVF6ReGj0AOBuF3v4Mvv4Tf/MZGtvjxj+1nS0VRlKFMNAoTJtiptRXWrLFieeJEK0rzmTwZ7rgjNy2VsiK7ocHuX2zuLX/1lZ03NpZeR89y/eSTHR0Gw2E7eZE3vLB1nmXay+MtRyIdLh/evKLCzsvLbb5Zs+D88ztGKFy4EE47zb5EHHNMrvjuDzcRFeeKMiIYPgIZbAN6332w3342vuiECXDEESqSFUUZPpSX26m2Fq66Cs46K3c461gMzjzTWow9i6wnGKurrVXYn9YV6TQ0NeWK54YG61pRjGTS+jwnEh1TMtmxvLZRk4JB6wqSf5y2Nvjv/4aHH+64Pv7Ji/ZRXd0xedbxUaM6BmnpbvrTn6wbX2urLXfhQrsO/S+SVZgryoAyvAQy2E4u995ro1qce679VPid76hIVhRleCFi48DHYtZyu3ixjeJzySU2ikUmUzg5jhW9jmPX0+mOY3l4Hfm8eSBg3TzGjLFpgYD9WlfMcl1bCw891HG8fOttOm0Fsyeak0lr2fandSauvfXbby9+PRIJ+OwzK15bWjpEbCl4FmrPYu0Jay+9vNymP/po4XFbW+Hss61I9zo3eq4lwWBhmr8TpD/NS/f2866fCDz+uP09y7eat7VZVxv/i1CxZf96TxlMYT5YZfvK3Rq26v8ClXWRoR0HuTMcx36GO/54+6nx9tttSKSKioGppKIoJTOc4oz2KA7yuoIxHVZZx8ldLrbNcaxQPO+8Qsv1VVfBIYd07OPtB7mWX+84/vT836Jioh2s+C8mzidNgv/7v9x92tutcG5ttXVtbbVpra0dU1ubFdTe5Ans/Kkngntt8dxDvKm1tbj1PRSCzTYrLrK9uV+Qey4vnrtLKNTh2uJ3c/GW58yx/XqSyY4yo1Hb5+eggwqP65WVv54v1qFwPZ8HH8y11oN9Ubnjjr4Ryf7r6S0bY78SnHlmttxpwBxjNJzLCGR4CmSwjeIf/wjnnAM77gg33ADbbKMiWVHWMVQgD1H6w7rnFyqdLT/0kHWn8AunsjIbK/r73+8Q3+l0h+U8nS60nPvzeHQmysHm+973bFSRfMaOhV/9qqNsv8XeX55/W1eTVy9vfu+9nV+zPfawVvh02s79k5dWbNtAki/4vcmzludb3UMh+Pzz4vUMh+1ok961zH9586d5y8Xy+V8G/fnyUIE8chl+LhYe0SiccAIsWQLXXQe//rX9RLXllvYtVFEURek9xx/f95+7O3PN8PPDH1oB1ZfiPN9y7ls2mQyZTIpMJg0zLyFy7oWIz3JuYjHaLzqXzM7bI8YgCOIYBOzcGAKI3WbIbsspK/8a5IvzZ5/t3Gp+ww0d6/798o/hTzMmV4R7ri7ei4SXdtJJnV+zq68uTez7hX4pLwPevDMRn0pZ33HPKh0M5i7756X4ledHUbnzzs7PWRlRDF+BDLbzxU9+Yntk33+/bUhF4JvfVJGsKIoyVOmFODfG4BiHjMmQcTI5y2knTSqTIuWkSGaSpJyUXc+kyJBBjGAwcOhOjM1cyAbX30ZkaR3JyRNZfMGPqT/8O2DaQQCDzZuHiGCMyeYJSMCdQlZAixDAN3nbjVB12bmM/fkMAm3t2eM5ZTEaLj2X+AbV4J6bwWCMNzkYY8W3Y6xl1GpxmxcjOCaAIQImbPfBwXG8fRy2rp3An8et4JLvwqJRMKURrn4Rjlw1gfcP2Z6AgQAB+zIACAEwhoB7LuIYe14SAMdB3HMSx0HoSA94eYwh4B5x3IFH8PC4uoKyj1k1iabbb0bEdjAVOtw0JGBrIdn1YEcet0OquIJY8PLkpkeeeQb56qsePVvK8GR4C2SwPsgXXABLl8JNN9lOLCJ2SFcVyYqiKP1OviufX0D6t5WS7t9mXLGXcTJZseuJ22QmaedOMiuARSQrYLPLYsBAMBAkIAGCEiQYCBIKhIiGola4+fjrDhXcND3AsmaorQowfYcKDonV9OqaZAWtb+4AGWNwTCordtd8by/izgwmX/u7rDBfetFPafivvYBWrEZ0BZ83RxAJucvhnG0eQYrt07H8h/O+ywWrH6LV7s7CGjj9UGgY+132qd04p97+cwJw8u5TZ8vF7qkxhgenf5tL1/yloOy6ml359hiDuOIf6dhfkI57aw9WNE9X+4y54HT+dc8vuHSPNItGQfi27u+lMjwZ/gI5EICpU+Hyy+3wrRdfbH2TwVqSy8oGtXqKoihDjVQmRVu6jaZEE6vbVpPOpHPEEVgLZA6eNivoi9ch2rICBnJEiz+96LFcq6yDkxW4ntgNSICyUBmVkbWPZDRr7ixmvDyD9rQvC3ngAAAgAElEQVS15C5tXsqMl23Iu0M2P6RHxxKRHLHWHX/ZLpYrzLeLcchanJMxhpZUC02JJpoSTTQnmmlKNtHU3kRT0q7f1fZkVqB6tIbh3Ja/8K1Zi+15uKLa+/POzX+OOQLct56fJ7s/wouJF2krUvZlyWc5ek4NoUCIUDBEKBAiHAgTDoQL0kKBUHbKWQ92rPv3CwfCPLCVw/WHCp6tPhns9SVWhjjDXyCD7Y279dZw7bW2V+w559h4yR9/bC3JKpIVRVE6Je2kaU210pxopr6tntaU7SDnWVmjkShAjojNt1b2JbPmzuKm2TexrHkZtVW1TN95eo8Faik4xiGejNOcaKY52cy1r12bFcce7el2rnntGkaXje5SjAXFWqXDwULh1t216kyYJzNJdpuymxW5rqj1xG5jojErenPWfWK44CWmRBKZBM2J5gILuEexdGNN97ipNi3Peu698BgMbem2gnIBWlItPPThQ/argDPAnQ2VEcXwjWJRjKVL4ZVX4IwzbLzOO++04lhFsqIMGhrFYt0j42RyBXG6FWMMwUCQWChGJBgZtLrli0WAWCjGVXtdlSOSjTG0p9tpTjZnBa5/3pRsIp6IZwVkPBm34tGXryXZUtSfuK/xxHMwECxq+VzSvIS0k+7xcWOhGNXRaqqj1VRFqrLL1dFqqqJVVEeqqY5V27mbNio6iqpoFZWRSva5fx+WNi8tOO7kqsm8/MOX++LUO2Wve/fqtmxjDBljfcg9N5rssmN9ytOZdE6at5yT5svjfRHI8nswSzWKxUhkZFiQPWprYfvt4frrbWD3Cy+Em2+GTz6xIjkWG+waKoqiDDiOcWhNtRJPxqlvq6c50QzYjmRl4TJqivjY9qcVN5VJ0ZJqIZ6M05JsIZ6KZ5d/8eovilpxL37pYu5+9+6s0I0n491aGIMSpCpSRVXUnSJVTBk1hepINZXRyqyorIxUUh2t5vJ/XM7qttUFxxlXPo7fHvDbLsWYt57tFOhtz3SdP+2k+bLxy07P4Yo9r+hUAK/ti8z0nacXfRmZvvP0nHzF/MW78zPOJ3/bT7/1U6589cqCss/e8WySmWSOW0YkGCEajCKRtdext865tagwV0YeI0sgi8DXvmaDvl96KcycCTfeaDvxee4WKpIVRRnmOMahLdVGPBmnoa2BpmST9fMVoSxkBXFXn/07++Tfnm5njw33IJ50Ba0rcvOFbnbdnefkS7UUCOBSSGaSjCsfx8ajN7ai1yd88wWvt60sVNYjV5BEOlFUMF747QvZoXaHHte5VN5d/m6n1tRjtjymT8owxlgB77PI7j5ldy769kXcNuc26lrqmFgxkTOnncluG+5GQ1tDdl+//7DXqdHvl1y0A6GXP5CXX+x0xDeOIBKM5LyEnbPTORy02UE4jkOGDMaxnTT9k+eP7nXC9Na7mmcFvsDp25/Oda9dR3um58+gMrwYWS4WHvE4fPgh3HUX/OEPcP75cOyxNjbkFluoSFaUAURdLPofY6xPZ0uyhfq2ehoTjdmOb7FwzFrfShSKTYkm9ntgP+rb6ntVl0gwQmWkkopwBZWRyuxUEa6gImLTvHlluDJ3PVLJyX89mbqWuoLjDsRnfxg4/+f8MktxK+mMfFeEjJPBwbFC0vMbF4iGopSFyogG7TwcDOf4TAf8odXoXz/z3tJZdJBi85zQeL75Yx89xlX/vIqvmr7C3GaSZrmJDvZ5KQPPyBTIAHV1MG+eDXb+9NN2FKbddrPbvvENO9CIoij9jgrkvsfzv21JttDQ3sCa9jXZDlmxUIxYKFaSuHGMw/z6+by7/F3eWf4O7y5/l/kN87vc58o9rywQtRWRiqwgXtvP/msrFocqXQlzv+tG2knjYOMM+8OaRYNRosEosXCMslAZkWCkoNOgUshwap+UnjFy/yMmTIDGRhv2bflyOO88O5jIpptan+QttlCRrCjKkCGZSWZ9iNe0r8FxHIwYosEoVdGqgni+xWhKNPHe8vd4d/m7vLv8Xd6re4/mpPVHronWsO2kbTlk80O4/737i/riTq6azNFbHt3n5+bHE4VrY8XNxhx2P8sXW/dbF71YueCzmvrjKbvrdtZJeLr8WLydpBkxOcfzjrnblN3Ybcpu2TQRYU37GgyGaCBKLBSjMlKZfQHyd/QLBULrpLVXUdZlRq5A9vsj33QTnHgi/PjH8OijUFOjIllRlCFD2knz8YqPSWQSRIIRKsIVBANdB3DtyjockABTx0zlwKkHst2k7dh20rZsVLNRVmStX7V+SZ23+gPHOOy36X7s/bW9yZhMVsx6PrH+UHMFopYOf1NPOPojSHjLnjuBl+6NaueN/haQQI4I9pfVmzR/endpIlIQSk7Fr6L0PSNXIAOEQrDZZvDBB3DbbXbo0jPOgIcests//dSK5MjghTRSFEXpjsWNi0lmkowuG91pnu6sw9tM2oaDNzuY7SZtx1YTt+pyYI2+sOLm4x8Nz/OX9ToOehhjbOzlYJTycHnWTcAvFDuGcC4UtfniVlEUpTNGtkAGqKiwlmRj4JZb4JRT4Gc/gzvugESiw5KsIllRlHWQP771R2a8PIMVLSuyQvWgzQ5iQcOCrGX43eXvMr9+PgbTrXW4VA7Z/JCSBLFf8DrGsfF8Ta5112AISYfwjYVsx0G/f6w3/HMpriKKoihry8jtpOfHGJg/H+rr4aWX4KKL4Pvfh1/8wrpgBIMqkhWlnxhOnWAGupPefe/dxxl/OyPH1SEgAcKBMIlMAuiwDm87aduSrMM9IeNkSGaS2fBg+X6zCEQCERunNuR2EiviH6tuAsq6ynBqn5SeUbIFWUR2A6YaY+4WkfFApTHmi/6r2gAiAhttZMXwAQfAwoVw++2w4YZw2mk2LNynn8LXv64iWVHWQYZ1+9QFF714UUHMYMc4BANBrt3zWradtC0b12zcJ+IzlUmRzCRJZpLZtHAwTFWkirJwWY7F1+/Lq8JXUZShSEkCWURmAtOAzYG7gTDwAPDt/qvaABMKwdSpNj7yT34CixfDr34FG2wA++8Pzc1WJG+8sY2THA4Pdo0VRWGEtE9FaGhrYFnzsqLb2lJtHL7F4b06rjGGlJMikU7kDG8cC8cYFR1FdbQ6Gzs5HNR2UFGU4UmpFuT/ArYD3gYwxiwVkap+q9VgUV4Om2wCn30G11wDS5faQUQmTYJtt7WW5E8+sS4Z0SiMGmWnWMxOAfWNU5RBYGS0Tz5SmRQLGhYwqXISy+KFIrm2qrak4zjGIZlJkkgnsnGSRYSKcAUTKiZQGanMukZ0FxVDURRlOFGqQE4aY4yIDdAoIhX9WKfBZexYK4hXroRbb4WjjoKTT7ad+VauhNpamD7dWpUbGmDFCuuiYQxUVtoQcZWVVjBHInaboij9ychpn1wWNi7EGMPPdvoZF754Yc62zsKtpZ00iXQi6yIhIgQlSGWkkvHl4ykPl2fFsLpFKIoy0ilVID8qIr8HakTkNOBk4A/9V61BZsoU61LhOHDMMXDDDdY/GaxVecYMu3yIrwe3MZBMwrJlkMlYYRwMQnW1tTKXl1vRHNLAIYrSx4yo9qm+tZ6VLSsZWz42mzambAwNbQ3UVtXyPzv/D/ttuh/xZJyUk7LDCYsQCUSojlZbF4lQjGgoutaj2imKogxXSlJrxphficg+QBPWz+8yY8zz/VqzwSQYtP7IH3wADzxQuL29HX75S2tF9nyRRazbhX9gkUwGWlutpdmLFhKLWcFcXQ1lZTa/umYoSq8ZSe1TMpNkfsN8qqPVGGO465272GzsZjx5zJO0pFpIZ9J2JDYDY8vGUhWtskMMh6I6lLCiKEoP6LbFFJEg8KwxZm9gWP7oFKWszA47vXx58e0rVsA221iXiw03tJ35pkzpWN5gA2s1Liuzk0cqZcPJ1dV1pHlW5ooKK6B19D5FKYmR1D4ZY/hyzZeICOFgmFcXvspn9Z9x/d7XYzCknTRbTtySWCimsYIVRVHWkm4FsjEmIyKtIjLKGNM4EJVaZxgzBiZPhq++KtxWUwPHHguLFtnpmWdgzZrcPOPHW9FcbBrtjnjluWYsXWpdOoyxbhjV1fDii7az4JIldp+rr4bjjsstIz+OdXfr+WmdbX/4YbjsMhvNY4MN4Kqr4IQT1KdaWacYSe1TfVs9q1tXZ10r7nrnLiZUTODAqQfSmmplXNk4ysPlg1xLRVGU4UGp39zagQ9E5HmgxUs0xpzd1U4isj/wGyAI/NEYc13e9pOAGwBPgf7OGPPHEus0MFx3nY2F3O6LNRqLWT/kQ/JGkWpstGJ58WIbS9kTz6+/Dk88kZu3utoKzw03tOLXv1xZCY89Zgcq8cpduBBOPRXmzbOuHV3hF7HGdL1ejKeftuftlb1oEZx+OixYAAceaAV8MGjn4bBdDofturctEOiY8tcDARXaSl8y7NunRDrB/Ib5jIqNAuDjlR/zryX/4txdzyUSjNCSbGFcxbjBqJqiKMqwpFSB/Hd3Khn30+f/AvsAS4A3ReRJY8zHeVkfMcb8tCfHHlBOOAHSaTu6Xl1dRxSLfHEM1k1iq63slE9bmxXOfgG9eLGNu/zss9Zf2SMatevpdO4x2tvhppusX7MxHRbnzual5Cm2z9/+lvtC4JV9883WbaSy0rqDeHPPlQQ6juMnXwwbY0WyJ6b94joUgieftAL9q69gvfVg5kxrrc8X2Sq0Fcuwbp881wpv8A2w1uPycDlHf/NoHOMQkECfjY6nKIqilN5J714RiQCbuUlzjTGpbnbbEZhnjFkAICIPA4cB+T9A6z4nnQTf+56NgVxVZUVdKZZYP2VlsNlmdsonlbLRLzyr8+LFmLvvpujRm5psB8FuMH4BKVK4HBAQN81b9vK0tRUvu7HRxoXurLyqSqisguoqqKqGqkpMVTVSVQVVVZhqO5eqansdKyqyQlsqKmz5Tz1l3Tk8gb5kCZx1lhXLBxyQV2ie0PaLbG/yLNzFxLXfwi0CDz4Il1xi74Hn0nL88d1ea2VwGe7t0+rW1dS31WddK5Y1L+Opz5/ixK1PpDpaTTwZZ3zFePU7VhRF6UNKHUlvT+Be4EtAgA1E5IfGmFe72G09YLFvfQmwU5F8R4jIHsBnwP8YYxbnZxCR04HTAaZMmVJKlfuemho7HPXKlVbQJpNe5YqLZS/NE19+IRYIkBZDGoeUkyJtMiTHl9M2ZmPat5lMIr09X39qFtG6VQXVSEwYywcP3AQBsaLUFb2OgATtugHEJ3Htug9fXY0x2bwGgwDbHP7fxcseP4ZPb5lJKN5CMN5KMN5CqLmVYEsrweYWQvFWAi1uWryZUH0dweYWm6+lE9HtI1MWJZBIIY6Tu6G9Hef662j6YA4SjSLRGFJWRiBWhsSiEIkikSgSixEIR22eSIRAJEogErXxqL3Oj9FoocsJWCv+tdcWurSsXAlHHtkhwLsT297UEwZTmA+Dl4Lh3D4l0gkWrFmQda0AuO+9+wD4wTY/AOygIWPLxhbdX1EURekdpbpY3Ajsa4yZCyAimwEPATt0sU8xPZTfI2wW8JAxJiEiZ2J/5L5TsJMxdwB3AEybNq1Ir7IBorbWTh6OY6dMJmc5k06RSidIpxKkE20kk220tTeSaGulLdlKMtWOSSfBsSLaOA6BQJCgBAlLgHAgRP3JxzLxpt8TSCQ7iotGqT/9RKqj7iBhOZ3tgFQ3ne/85Ozr5IjG4mVHqD/jB5RNnpIVgSYQIBUIkCrFkp7JEGhtI9AcJxBvJdgcJxBvIRBvscvNdnn0n/5SdHdpa6fipX8SSCQIJJJIximarxScaAQT9YRzFBONEVy0CEkVurSYSy4h88F7mFgMYlGIlXVEJimLQZnrXhKzoh33uOK6jUigw7ItQXfudyl5/HE45xzrggNWmJ92mn0BO+YY9+R919dbLjWt2HZv/uCD1re8tbWj7NNPt8v9LZJ9wnxrKOKT1COGZftkjGFBwwJCgVDWtaI50cwjHz3CAVMPYL3q9cg4GYKBIBWRYT82iqIoyoBSqkAOez8+AMaYz0Qk3M0+S4ANfOvrA0v9GYwxq32rfwCuL7E+g4ZjHFKZFGknTdpJk8wkaU+350zG/Z01xiARgSiERlURCowmJEFigZAdqcrz/c1kOpadDDiG5lO/BmPHMu7G2wgtX0F60nhWnXUqzYfs21EZz2XCj3/db8nMz9vFfs2nbgTjxzPuV7cSWlZHunYiq845jeYDvmut55mMnafTVsh5YruYNd1nSXdCQZyxo2H82Fw3Dx9VL71GePmKguuenjSBL2bd50tIE2hPIIkkkkwiiSSBRAJpTyKeiE4kkPYEJOwk7kS7t5xE2hMEkklGz19QUCYAra2E7rqn+LZOMAHBicXIxKI4ZVE7d6dMLGLn0QgmGmHcs68R8sSxR1sbmXPOpmHuOwQlSFACBAMhAhIgIAFEhEAgSAA7z177/Hln99jbdu21HeLYd76cfbadB4Mdk2c9L7buubH4Lez+fP71YBD++le48MLsS0EY1na0imHZPq1sXUljeyNjysdk0x756BFaUi2cvO3JALSmWplQPkHdKxRFUfqYUgXyHBG5E7jfXT8eeKubfd4EporIxthe4McAOTHKRKTWGLPMXT0U+KTE+gw4GSfD/Ib5NLQ1WJcEV2sYYwgHw1bIBIJURatK/7HyXDCCwaKbm086luaTju2jM+gZzT84muYfHF1aZmNyrej5lvV0uviUStntkBXXq04+hok33l5gvV518jF2dEMPERwRiEWgLC9udGcW087SgKrDTya8fGXBqaUnTeCLv95jBXhbO9LWTqCtnUB78WVx1wOt7nq7m6etnVB7O4HGONKW6Nivta2gTIBgU5xx19/S/bXvD+rrOyzJQ4Nh1z61p9v5ouGLHNeKZCbJfe/dx87r78w3J3wTsMNH+wW0oiiK0jeUKpB/DPwEOBsrDV8Fbu1qB2NMWkR+CjyLDaN0lzHmIxG5EphjjHkSOFtEDgXSQD1wUq/Oop9JZpJ8vvpzWpItjC4bPdjVWfcQ6f0Q2nniunnqVP4yaim/XPEXFlc6bBAPcP64g9nnCPdFwRPU/mgZ/jSwLiOGDqu8V463Dax7iy/Sx6rTT2Ti9f9LIJHIVs2JRlj1o6MhHseIkAkHIVQO1RUdxyzme+5dE8iNtOHvKOmmbXz4yTw6fiWXfBcWjYIpjXD1i3DU8rEs/sONYAyC8dXfK6MjzXHSZIzBOBkcx2CMQ8ZkMMZBjOdnnrt/AGGz868jvDovdjeQGTOapuuvIGAEcQziOHZuvLnJpuPY5YB7Hb1tOA4BQ+4Lk3c/Suhk2kOGVftkjGFB/QL74h3oeHl+6vOnqGup4xff+QVgX9pDgRAVYXWvUBRF6WvEdOerCohIBdBujMm460Egaoxp7XrPvmfatGlmzpw5A1ZeW6qNuavm4uAMeBilWXNncdPsm1jWvIzaqlqm7zydQzYvEl5uGJU9a+4sZrw8g/Z0R5i5WCjGVXtd1e/lP3/f5fzyq0dZXJlhg3iQ89c7in1OnFkYBi8/hB6mQ3D786XTPjeatM3jc6Mhk+H5Z2/j/PTTtPqcDMqT8EvZl32+c2rnkVI6c6EoJQ3rKlT53CtM/uWtOdb6TDTCwvNOY9W+u1tXIQEQRAQjbnfOPIu8ERAjEAxkXxqM2MsSCIYIiBAgQCAYRAjw9f2PJ7Ksw41mGjDHmF7H6xtu7VNdvI4v1nzBmLIOy7AxhsMePoyMyfC3Y/+GiNCUaGJS5STWr15/bautKEoniMhbxphpg10PZeAp1ez3IrA3EHfXy4DngF37o1LrCvFknE9WfkI4GKYyPPDi2C8UlzYvZcbLMwD6XSh2VfaBUw+kLd1GW6qN9nQ7ralW2tPt2bS2tE33L+fn6Sp/PBkvqE97up0LXriA+9+/n6pIFVXRKqoiVVRGK6mOVuek+Zero9VURCpKcnmZNXcWM1qfoL3KxqNeVJXh3NYnuOqzHez17iYyRdpJ05JsIZ5sIZ6ME0/FiSfjblq8YGpJ2fR/h/5NKu/QrRGYHvwHuy/JdJyP7/wqo5U5y9WRaqqiVUSDUevbXgIBoHWLb3Db6Lq8l4Ij2OcHZ1NT0lG6xxiDweTM6y6dzit/nMGMPdIsGgXh29a6mGHTPrWl2vhyzZeMio7KSX9j8RvMXT2Xa75zTfYeZ5wMo2P6RUtRFKU/KFUgx4wxWeVijImLyLAe07ShrYHPVn9GRaSCZ+c92+/W1PZ0O2va17CmfQ2N7Y1c/c+rc6yoXp6Z/5jJ+yvex3HsZ3THODlTQZrj4OCQcYrnNcbYfXz55q6eS9pJF5R97vPncu7z5/b43KLBKGWhMsrCZcRCMcrCZZSFyqiKVDG+YrzdFiojFo5lQ1jlkzFWLDYlm/iq+SviyThNiSYSmUTR/B6CUBGpoDpaTWWkc0F9x1t3FL3eV7xyBZ/Xf15c5CZbskI4f9/OqAhXUBmpzE4pp3i43mQmyeKmxcSTcZoTzcST8Wznz84IB8JURio7zq0bUf3hig+5p+Vxkr6Xgp+3/IWfv7sxe39t7+xx88stqEfBal5+31cqg+H+qQ38+lDw7lyyuAt+TxgW7ZNjHOY3zCcaiua4VoAdGGR8+fhsu5N20kSCER1aWlEUpZ8oVSC3iMj2xpi3AURkGlC8d9EwoC5ex4KGBVRHq3lm3jMlW3KNMbSl27Iid03CzhvbG2lMNHYI4ERjNt3L053Q82hJtfDEJ09kIxp4UzAQLEyTwrRseqBjPRKIEAwFERGCEuSjlR91Wv5ZO55FebjcCl1X9OaIX1+aJ4Z70sP+hQUvsLR5aUH65KrJ3HnYnQXpyUyS5kQzzcnmnHlTsol4Ik5zspmmRFNWUDcnm6lrqbOiNxGnKdmEYzoPGdecbObOd+6kMlxJRaRD3I4rH8dGNRtRGclNrwxXFqa5U3m4vOBa7HXvXp2e76xjZ2XXHePQmmq15+aehyee/cv+825ONrNwzcLscjHrfD6JTIJrXruGa167ptu86xDDon2qi9cRT8QLOt19uupTXlv8Gj/f5edEgtYXpyXZQm1VbclfDBRFUZSeUapAPgd4TESWYu1Fk4ESQxwMHYwxLGlawpKmJdTEaggGgtw0+6ailsVLX76Up+Y9lRW/je1WAHdmEQRrSa2J1TAqNoqaaA0b1mzI1rGtGRUdZdOjo+y2WA3nPncuK1sLoypMrprMyz98uc/P3U9Xou2nO/bvqLvTd55e1Ad5+s7Ti+aPBCOMLR+bHWWspxhjaE21csCDB1DXUlewvbaylpd/+HK/CZFSz9cbSrgyUkltVW3+YUoi42RoSbVkRfVhDx/Wad5rvpMrkPPPX/LCCHd3ffzbz3+++GiMa8GQb59aU60sXLOQmrJC5xb/sNIejnHUvUJRFKUf6VIgi8i3gMXGmDdF5OvAGcDhwDPAFwNQvwEj42T4Ys0XrGpdxZiyMdkf9GXNy4rmb0u3sbR5KaOio9hk9CY54tYTwKNiozrEb2wUsVCs5Ppc8O0LeiQU+5KeitS+xLPKD1QHQRHrgnHerucVPeef7/LzfrXSDeT5BgNBqqPVVEerAfvC09mL0BHfOKLPy/f49exfFy23pwyX9skxDvPq5xX92rI8vpy/f/53jtvquGzIt1QmRTQYVfcKRVGUfqQ7C/LvsZ1fAHYBLgbOArbFjhx1ZP9VbeBIO2k+X/05TcmmnJ7jALVVtZ2KiL8e89d+q9NAC8V1pWyv/IEqy18mDPw5G2PYf9P92ftre2d9wkWElmRLzsAggnQMEtJHg0IM1otQsXJ7ybBon5Y3L6ct1VY0hOR9792HYxx+uM0Ps2mtqVbWq1pP3SsURVH6ke4EctAYU+8uHw3cYYx5HHhcRN7t36oNDIl0grmr55JMJ4t+sjxz2plc9vJlOWkDaU0daKG4LpQ9WPTHOWecDBmTIZVJkTEZMk7GHUXRbhcRoqFo1q87IAHSTjq7X8bJ2HUyJDNJ0k46x2faE0k21rG7jBXZXtQIv/85kF3ed5N9STtpfvPv37A8vpxJlZP42U4/Y79N9yORTuREn/DKNMYue9ty6mEA8dXFDfXm1cfbvtuU3bjw2xdy+1u3UxevwzimI85czxjy7VNLsoVFTYuoiRW6VsSTcR756BH233T/nFBuGZMp6oqhKIqi9B3dCmQRCRlj0sB3Af/wWr0cGWLdoTXVyicrP0FEqI5VF83zQd0HAIwrH8fq1tUDbk0d7viFoBeBI+2kEfcPwMEp6HAYDASzVtX8Hv8DiTfkuDf5RSJAKBCiLFxGdbSa8nA50VCUcCBMKBAiHLTz3uBFIvEEqydai6V719QT12knnb3mB009iP033R/HOFkLNcbW23+NQ76hrv3r+dZtcWMmBySQXS62faf1d2LmnjMBkMvlg15e/iHdPmWcDPMa5lEWKt6R9bGPHiOejGeHlQbbKbUsXKbuFYqiKP1Mdz8iDwGviMgqbK/wfwKIyKZAYz/XrV9pSjTx6apPiYVinfoGv77odR77+DFO2/40zt215+HNRiLGmKwQ8wtfY02JWcuiMXYQikggQjgQpixcRjQYJRKMEAlGCAVCiIg9jmtFTTkpUplUdjntpGlPt2dD0uVbU7MDXRhyRHWxiB+dnUvKSWXL94S730IbC9rnZ1R0FGWhMiKhSI4A7it3iHy6qvcIYki3T0ubl9Keai/qWpHKpLj3vXvZcb0d2WriVtn01mQrU2qmDGQ1FUVRRiRdCmRjzNUi8iJQCzxnOr6pBrC+fkOS1a2r+bz+cyojldmwSfm0JFu49OVL2bhm436P3LCuk2/l9WIqi0jWUuotByRAJBQhGohSHrQW02gwmrVIhgIhghIkGAgSlGCf+VF6Qjo/FrSX5rknpDIp0ibdsewJ3yLiOiABYqEY5eHybOg6z+rriWD1Ax08hnL7FE/G+arpq06HroT4FOIAACAASURBVH963tMsiy/j8j0vz0l3jFMwiIiiKIrS93T7GdIYM7tI2mf9U53+xRjDsuZlfNn4JTWxmi4/b9/0r5tY2ryUB494sEfRJ/qCYqOPdTXvbB8AvGGAff6gHn6/0Py5Z+HF2FBq4UCY8nB51sIbDUWzQtcvegfLqhmQAIFg78r2uyNk7GjFhAKhXrs/KAPHUGyfMk6G+fXzKY+UF33BMsZw1zt3scnoTdhjwz2y6clMkrKIjTOuKIqi9C8jRgE4xmHRmkUsb1nOmLIxXQq5OUvn8MAHD3Di1ieyQ+0O2fRUJkUyk8wRpQUdlvIEaf7c29ffiSlfkOZ//hcRAgSyVtf8tGKDgeT7fHY2z/cVLTYf7ngDpAQJEiY82NVRhjlLmpbQnmnvNI7x7CWz+WTVJ1z1naty2qmWZAsb1Ww0QLVUFEUZ2YwIgZxxMsxvmE99az2jy0Z3Kfra0+1c8uIlrF+9PtN3yY1U0ZRoYmLFxAJR6llPSxGkpQhURVGGJ82JZpY2Ly0IJ+nnznfuZFz5OA7d7NCcdIPJxkJWFEVR+pdhL5CTmSSfr/6clmRLwRCuxfjtv3/Ll41fcs9h9+T0FG9NtTK6bDRfG/O1/qyuoijDlLSTZl79PCojlZ2+CH+2+jP+ueifnLPzOURD0Wx6Ip2gIlwx4O5eiqIoI5Vh3Q2+Pd3OJys/oT3dXlLc0Pfr3ufud+/m6G8ezS4b7FJwrPWq1uuvqiqKMsxZ0riElJPKEb753PXOXZSFyjh2y2Nz0lvTrUyqnNTfVVQURVFchq1AjifjfFD3AQZDVbSq2/zJTJKLX7yYCRUTOG/X83K2tafbqQhXUBmp7K/qKooyjGlKNLEsvqzLCBR18Tr+9tnfOPIbRxYMHGIckx0iXFEURel/hqWLRUNbA5+t/iw7MEMp3DbnNj6v/5w7Dr6jQFC3pdrYfNzm6h+sKEqPSTtp5q2eR1W0qss25P737ydjMjnDSoN1r6iKVpXclimKoihrz7CzIK9oWcGnqz6lMlJZ8g/KJys/4Y637uB7m3+P/7fR/8vZlswkiQajGntUUZResahxERmT6TTmOtgvXg9/+DD7brIvG4zaIGdba6qViRUT+7uaiqIoio9hI5CNMSxuXMz8+vnUxGoIB0sL15XKpLj4pYupidVw0e4XFWxvSbawfvX6aj1WFKXHNLY3Uhev69Y94s8f/5nmZHPOsNJ+qmPqXqEoijKQDAsXC8c4fNHwBStaVjCmbEyPxOxd79zFxys/5pYDbinw+0s7aUKBUKejXSmKonRGKpNiXn33rhVpJ829793LtMnT2GbSNjnb2tPtVEeru7Q+K4qiKH3PkLcgp500c1fNZVXbKsaWj+2ROJ5fP59b/nML+2+6P/tusm/B9ngyzuSqyQQDwb6ssqIoI4CFjQsxxnQrbp+Z9wxLm5dyynanFGxrS7UxoWJCf1VRURRF6YQhbUFOpBPMXT2XZDrZ6ahUnZFxMlz84sVURCq4dI9LC7Y7xgFgXPm4Pqmroigjh/rWela2rGRs+dgu83nDSm9cszF7brRnwTZAo1coiqIMAkPWgtyaauXDFR+SdtK98s+7//37ebfuXWbsPqOoCI4n4tRW1pbsy6woigK2Y++ChgUlhZf891f/5qOVH3HydifnDCsN1r2iJ/0pFEVRlL5jSArkpkQTH674kHAw3KvYxAvXLOTm2Tez10Z7cfBmBxdsN8aQMRn9tKkoSo/5cs2XiEhJfsN3vXMXY8vGctjmhxVsS2QS2gYpiqIMEkNOIBtj+HTlp5SHy3s17KpjHGa8NINwIMwVe15R1Ge5JdXCuPJxGndUUZQe4RiH+rb6kqzHn6/+nFcWvsLxWx9f0NZ47hWlHEdRFEXpe4aeQHb/etur++EPH+Y/S//DBbtdwMTK4rFFk+kktVW1a1NNRVFGIAaDUFpH4bvfvZtYKFYwrDRAW7qN0bHRhAJDupuIoijKkGXICeS1YWnzUm544wZ23WBXjtziyKJ5WlOt1JTVUB4uH+DaKYoyUljRsoIn5z7J4VsczpiyMQXbE+kE4yvGD0LNFEVRFBhBAtkYw6Uv22gVv9jrF52Gg2tPt7Ne1XoDWTVFUUYYD7z/AGknzY+2/VHBNs+9ojf9KxRFUZS+YcQI5Cf+P3t3HidXVef///3pqq6u3tJJp7N1VpYsNNkgAVGRRUFgJMK4oICIMuAo44gw+SqDDmhGAo4DogyIgCwCIggzAioiShD5iWyRkLBDyN6BQEI6nd5qOb8/bt3KqerqLb0l3a9nHvWoW/feuufe7s6pd517zr0v/58eX/e4Fr9/sSaNmFRwnZZki8qLy/lgAtBvdrbt1J2r7tRH9/uoplRNabe8KdGk0WWj6V4BAINoWATktxrf0mWPX6aFtQt16pz2/f1CTW1Nmlw1mdtKA+g39750rxpaG3TWQYVvK92WatOYMrpXAMBgGvIB2Tmn7/z5O2pNturSD1/a7lqjobZUm+LRuKpKqgZ4DwEMF8l0Urc8d4sOnnCw5o+f32552qVlZpzFAoBBNuQD8u9e+50eefMRff2wr2vayGkdrrezbacmjZhE6zGAfvOHN/6gjTs2FryttBR0r6gpreH29gAwyPo1IJvZ8Wb2ipm9bmYXFlheYmZ3ZZY/aWbT+rL8rc1b9Z+P/afmjpurM+ed2eF6yXRS0aKoRpX27HbVAPZeA10/Oef0s7//TNOqpunoaUcXXCeRSqimnNvbA8Bg67eAbGYRSddIOkFSnaRTzawub7V/krTNObe/pB9K+n5f7sP3HvueGtsatfTDSzttkWlsa1RtZS2tNsAwMRj109Obntaqt1fpiwd9sWBdk3ZpFVkR3SsAYA/Qny3Ih0p63Tm32jnXJumXkvLvp3qSpFsz0/dI+oj1UR+HP67+o3772m917iHnavro6R2ul3ZpSVJNGa02wDAy4PXTTX+/SaPio3TyrJMLLm9KNGlM+ZgOx0kAAAZOf9bEEyWt915vyMwruI5zLilpu6TR+Rsysy+Z2TNm9sw777zTZcHbW7brO49+RwfUHKBzDj6n03UbWxs1oWKCiiPFXW4XwJDRL/XTu1veLVjYG1vf0LI1y/S5uZ9TPBovuE4ildDo0nabBwAMgv4MyIVaWtxurCPn3PXOuYXOuYU1NV239F7++OXa2rxVSz+ytNPg65xTyqU0tnxsl9sEMKT0S/00ekzhgHvzczerJFKi0+acVnB5Kp1SpCii8lh5F7sNABgI/RmQN0ia7L2eJGlTR+uYWVRSlaStvSn0sbWP6X9f/l+ds+Ac1Y3J71KYa2dip2rKalQSLelNkQD2PgNWP23ZuUW/fvnX+scD/rHgbaWloHvF2LKxdK8AgD1Ef9bGT0uabmb7mFlM0mcl3Z+3zv2SwstLfErSIy68z+puaGxr1MXLLtZ+o/bTvxzyL12u35Zs04TKCbtbHIC914DVT3esvEPJdFJfmPeFDtdJppOqLiscngEAA896kUe73rjZP0i6SlJE0k3OuUvNbImkZ5xz95tZXNJtkg5S0DLzWefc6i622aiY1imtVO92TkVySiup1h68q0ZS152g+89glk/Zw6/8gSp7qnNuwG8dtwfVT6YiFalNTbt5KCH+Vil7OJU/pOsnDL5+Dcj9wcyecc4tHG5lD3b5lD04hvOx742G8+9ruB77cC17sMsf7GPH0EeHNwAAAMBDQAYAAAA8e2NAvn6Ylj3Y5VP28Ct/sI99bzScf1/D9diHa9mDXf5gHzuGuL2uDzIAAADQn/bGFmQAAACg3xCQAQAAAM9eFZDN7Hgze8XMXjezCwegvDVmttLMnjOzZzLzqs3sYTN7LfM8qo/KusnM3jazVd68gmVZ4MeZn8PzZnZwP5X/HTPbmDn+5zLXjQ2X/Xum/FfM7LhelDvZzJaZ2Utm9oKZnZeZPyDH3kn5A3HscTN7ysxWZMr+bmb+Pmb2ZObY78rcyEJmVpJ5/Xpm+bR+KPsWM3vTO+75mfl9/jc3lAx03ZQpc1jUT4NVN2W2Rf1E/YThyjm3VzwUXMz/DUn7SopJWiGprp/LXCOpJm/ef0m6MDN9oaTv91FZR0g6WNKqrsqS9A+SHpRkkg6T9GQ/lf8dSYsLrFuX+fmXSNon83uJ7Ga5EyQdnJmulPRqZvsDcuydlD8Qx26SKjLTxZKezBzT3QpuSiFJ10n6Smb6XEnXZaY/K+muXhx3R2XfIulTBdbv87+5ofIYjLopU+6wqJ8Gq27KbI/6yVE/8Riej72pBflQSa8751Y759ok/VLSSYOwHydJujUzfaukk/tio865xxTcras7ZZ0k6ecu8DdJI82sV/fM7qD8jpwk6ZfOuVbn3JuSXlfw+9mdcuudc8sz0zskvSRpogbo2DspvyN9eezOOdeYeVmceThJH5Z0T2Z+/rGHP5N7JH3EzKyPy+5In//NDSF7St0kDcH6abDqpkzZ1E8B6icMO3tTQJ4oab33eoM6ryj6gpP0BzN71sy+lJk3zjlXLwWVl6Sx/Vh+R2UN5M/iq5lTVjd5p2v7pfzMKbmDFLQWDPix55UvDcCxm1nEzJ6T9LakhxW0+LznnEsW2H627Mzy7ZJG91XZzrnwuC/NHPcPzawkv+wC+zXcDdbPZrjXTwNWN0nUT6J+wjCzNwXkQt9E+/sadR90zh0s6QRJ/2JmR/Rzed01UD+Ln0jaT9J8SfWSruiv8s2sQtK9kr7unGvobNW+LruD8gfk2J1zKefcfEmTFLT0HNDJ9vu1bDObLenfJc2SdIikaknf7I+yh5jB+tkM5/ppwOomifpJ1E8YhvamgLxB0mTv9SRJm/qzQOfcpszz25L+T0EF8VZ46ibz/HY/7kJHZQ3Iz8I591amkkpLukG7TtX1aflmVqyg8r/DOfe/mdkDduyFyh+oYw85596T9KiC/nMjzSxaYPvZsjPLq9T9U8/dKfv4zCld55xrlXSz+vm4h4hB+dkM5/ppIP9/Uj9RP2F42psC8tOSpmdG0MYUDAK4v78KM7NyM6sMpyV9VNKqTJlnZlY7U9J9/bUPnZR1v6TPZ0buHiZpe3i6ry/l9eH6RwXHH5b/2cyo5X0kTZf01G6WYZJ+Jukl59yV3qIBOfaOyh+gYx9jZiMz06WSjlHQx3CZpE9lVss/9vBn8ilJjzjndquVpIOyX/Y+9E1B30L/uPv9b24vNaB1k0T9NBD/PzPlUD+J+gnDlNsDRgp296FgpOqrCvpBfaufy9pXwWjgFZJeCMtT0KfqT5JeyzxX91F5dyo4VZZQ8G34nzoqS8HppGsyP4eVkhb2U/m3Zbb/vIIKaIK3/rcy5b8i6YRelHu4glNhz0t6LvP4h4E69k7KH4hjnyvp75kyVkm62Pvbe0rBAJtfSSrJzI9nXr+eWb5vP5T9SOa4V0m6XbtGkvf539xQegxk3eT9jQyL+mmw6qbMtqifqJ94DNMHt5oGAAAAPHtTFwsAAACg3xGQAQAAAA8BGQAAAPAQkAEAAAAPARkAAADwEJD3UGbmzOwK7/ViM/tOH237FjP7VNdr9rqcT5vZS2a2zJs3x8yeyzy2mtmbmek/9nDbD4XXge1knUvN7Ojd3f+8bW0ws5UW3OL092bW6S18u7l/Z5nZ+L7YP2AgUT91uW3qJ2AvR0Dec7VK+oSZ1Qz2jvjMLNKD1f9J0rnOueyHgHNupXNuvgtuIXq/pP+XeX1MXjlRdcI5d5xzbkcX63zLObess3V66EPOubkKrs15YW/3T9JZkvgAwt6I+qkT1E/A3o+AvOdKSrpe0vn5C/JbWMysMfN8lJn92czuNrNXzexyMzvdzJ7KtC7s523mGDP7S2a9EzPvj5jZD8zs6UxLxD97211mZr9QcBH2/P05NbP9VWb2/cy8ixVc5P46M/tBdw7YzI4xsz+a2S8VXCReZvaAmT1rZi+Y2dneuhvMbKSZ7Z8p92eZdR40s3hmndvN7GRv/e+Y2d8zxzYjM3+smf3JzJab2bVmttEyd3DqxGOS9s+8/3PesS/t7v6Z2WckzZd0V6aFKpb52b+Y2b/vd+dnBgwS6idRPwFD2mDfqYRH4YekRkkjJK1RcE/7xZK+k1l2i6RP+etmno+S9J6kCZJKJG2U9N3MsvMkXeW9//cKviBNV3B3qrikL0n6dmadEknPSNons92dkvYpsJ+1ktZJGiMpquBORydnlj2qTu5oVOA4jskc9xRvXniHqjJJL0oalXm9QdJIBR8ECUlzMvP/V9JnM9O3e/uyQdJXMtNfk3RdZvo6Ba1EknSigrtWjSywr2F5lnnPpZImZX4/NZKKJf1Z0ok92L/HJc3PTI9TcEe08OY97faBB4895UH9lJ1H/cSDxxB90IK8B3PONUj6uYIKs7ueds7VO+daFdx28w+Z+SslTfPWu9s5l3bOvSZptaRZkj6q4H72z0l6UsHtVKdn1n/KOfdmgfIOkfSoc26Lcy4p6Q5JR/Rgf/M94Zxb570+38xWSHpCQYW/X4H3vO6cC1uOnlXucfr+t8A6h0v6pSQ5534jqbPTjn9RcKvXUknfl/Q+SY84595xziUk/UKFj707+7dVUlrSDWb2jwo+8IE9FvWTJOonYMjqtB8V9ghXSVou6WZvXlKZ7jFmZpJi3rJWbzrtvU4r9/edf49xp6D14V+dcw/5C8zsKHVcIVqXR9Az2XLM7BgFFfphzrlmM3tcQUtSPv+YU+r477q1wDo92f8POefe8/avu+/tcv+ccwkzWyjpWEmflfQVBYEA2JNRP1E/AUMSLch7OOfcVkl3KxhQElojaUFm+iQFp8966tNmVpTp97evpFckPSTpK2ZWLElmNsPMyrvYzpOSjjSzGgsGyJyq4FReX6iStDXz4XOggtagvva4pFMkycz+QVKnI7vz/E3S0WY22oJBO59Vz459R1ieBSPKR2Raic6XdFAPtgMMCuon6idgqKIFee9whaSveq9vkHSfmT0l6U/avdNdryioLMdJ+rJzrsXMblRwem15pvVhi6STO9uIc67ezP5d0jIFrR2/c87dtxv7U8hvJX0pcwrzZQUfdn3tEkm/MLPTFfRPfEvd/Hk65zZkBvs8quDYH3DO/bYHZd8s6UYza5b0cUn3mFmJgi+uF/RgO8Bgon6ifgKGnLDDPTAsZUaUJ51zSTM7XMFAoYWDvV8AQP0EDB5akDHcTZN0Z+b0a6ukfx7c3QGArGmifgIGBS3IAAAAgIdBegAAAICHgAwAAAB4CMgAAACAh4AMAAAAeAjIAAAAgIeADAAAAHgIyAAAAICHgAwAAAB4CMgAAACAh4AMAAAAeAjIAAAAgIeADAAAAHgIyAAAAICHgAwAAAB4CMgAAACAh4AMAAAAeAjIAAAAgIeADAAAAHgIyAAAAICHgAwAAAB4CMgAAACAh4AMAAAAeAjIAAAAgIeADAAAAHgIyAAAAICHgAwAAAB4CMgAAACAh4AMAAAAeAjIAAAAgIeADAAAAHgIyAAAAICHgAwAAAB4CMgAAACAh4AMAAAAeAjIAAAAgIeADAAAAHgIyAAAAICHgAwAAAB4CMgAAACAh4AMAAAAeAjIAAAAgIeADAAAAHgIyAAAAICHgAwAAAB4CMgAAACAh4AMAAAAeAjIAAAAgIeADAAAAHgIyAAAAICHgAwAAAB4CMgAAACAh4AMAAAAeAjIAAAAgIeADAAAAHgIyAAAAICHgAwAAAB4CMgAAACAh4AMAAAAeAjIAAAAgIeADAAAAHgIyAAAAICHgAwAAAB4CMgAAACAh4AMAAAAeAjIAAAAgIeADAAAAHgIyAAAAICHgAwAAAB4CMgAAACAh4AMAAAAeAjIAAAAgIeADAAAAHgIyAAAAICHgAwAAAB4CMgAAACAh4AMAAAAeAjIAAAAgIeADAAAAHgIyAAAAICHgAwAAAB4CMgAAACAh4AMAAAAeAjIAAAAgIeADAAAAHgIyAAAAICHgAwAAAB4CMgAAACAh4AMAAAAeAjIAAAAgIeADAAAAHgIyAAAAICHgAwAAAB4CMgAAACAh4AMAAAAeAjIAAAAgIeADAAAAHiig70DAAAAQ8Gzzz47NhqN3ihptmiE3JOlJa1KJpNnL1iw4O1CKxCQAQAA+kA0Gr1x/PjxB4wZM2ZbUVGRG+z9QWHpdNq2bNlSt3nz5hslfbzQOny7AQAA6Buzx4wZ00A43rMVFRW5MWPGbFfQ0l94nQHcHwAAgKGsiHC8d8j8njrMwQRkAAAAwENABgAAGAI2b94cmTVrVt2sWbPqampq5o0dO3Zu+LqlpcW6s41PfepT01asWFHS2TqXXXbZmJ/85CfVfbHPt99++8hZs2bVzZw5s26//fY78Morr6zpi+32ljnHmQAAAIDeWrFixZp58+a90+03XHddtZYsmajNm2MaP75NF1+8UV/+8ta+2JcLLrigtqKiIrVkyZK3/PnpdFrOOUUikb4opleam5tt6tSpc5566qmXpk2blmhubrbXXnstNnfu3Nbd3WZPjm/FihU18+bNm1ZoGS3IAAAAA+2666p1/vlTVV8fk3NSfX1M558/Vddd1ycts75Vq1aVTJ8+/cDTTjttyoEHHli3bt264lNPPXXq7NmzD9h///0PXLx48YRw3QULFsz861//WppIJFRZWTn/3HPPnThz5sy6+fPnz9q4cWNUkr72ta/VLlmyZGy4/rnnnjtxzpw5B0ybNm32ww8/XC5JDQ0NRccdd9x+M2fOrFu0aNE+s2fPPuCvf/1rqb9fW7dujTjnNHbs2KQklZaWujAcr1u3LvqRj3xkvxkzZtTNnDmz7pFHHimXpG9/+9vjpk+ffuD06dMPvPTSS8d2dHx33333iPnz58+qq6s74GMf+9i+DQ0NPcq8XOYNAACgr5111mStWlXW4fIVK8rV1pbb7aGlpUjnnTdNN900puB7Zs9u0k03rd+d3XnjjTfiN95445tHHnnkOkm66qqrNowbNy6VSCR02GGHzXz22We3LViwoMV/T2NjY+Soo47ace211248++yzJ11zzTU1S5cu3Zy/beecVq5c+dIdd9xRtWTJktpjjz32tcsvv3zs2LFjEw899NAbTzzxROnhhx9el/++iRMnJo844oiGyZMnz/3ABz7QcOKJJ24/++yzt0YiEZ1zzjlTP/KRjzRcdNFFWxKJhHbs2FG0bNmysl/96lejly9f/lIymdSCBQsOOOaYY3aUl5en/ePbuHFj9Ac/+MGEv/zlL69WVlamv/nNb45funTp2Msvv7zdvneEFmQAAICBlh+Ou5rfS5MnT2498sgjm8LXN910U3VdXd0BBx54YN3q1avjzz//fGn+e+LxePqUU05pkKQFCxY0rVmzJlZo25/+9Kffk6QPfOADTRs2bIhJ0hNPPFFx+umnb5Wk97///c377bdfc6H33nvvvWt+97vfvbpgwYKmK6+8cvxpp502VZKefPLJyn/7t397R5KKi4tVXV2dfvTRRysXLVq0rbKyMj1q1Kj0CSec8N6yZcsq8o/vkUceqXj99dfjhxxyyKxZs2bV3XPPPaPXrl3bab/qfLQgAwAA9LWuWnpra+eovr594JwwoU1PPfVKX+9OaWlpOpxeuXJlyU9/+tNxzzzzzEs1NTWpk046aZ/m5uZ2wTwajWYHqkUiEZdKpQqG93g8ns5fpydj3N73vvc1v+9972s+66yz3p09e/ZsSWul7KXYsjrbpn98zjkdeeSRDb/+9a/f7PZO5KEFGQAAYKBdfPFGZYJlVjye1sUXb+zvot97771IeXl5atSoUam1a9cWP/bYYyP6uoz3v//9jXfeeecoSXrqqadKV69e3a6FeuvWrUUPPvhgRfj6qaeeKqutrW2TpMMOO6zhBz/4wRhJSiaT2rp1a9HRRx+947e//e2oxsZG2759e9Hvf//7kR/+8Icb87d79NFHNz755JMVL774YkwK+kOvXLmSFmQAAIA9Wni1in66ikVnPvjBDzZNnz69ZcaMGQdOmTKldcGCBe1CZm9deOGFb3/605/eZ8aMGXVz5sxp2n///Zurq6tT/jrOObvssssmfOUrXymJx+Pp8vLy1I033rhGkq6//vp1X/jCF6bdcsstYyKRiK699to1Rx99dNMnP/nJdw866KA6STrrrLO2HHrooc2rVq3KCb+TJ09OXnvttWtPOeWU/RKJhEnSd7/73Y1z5szp9tUxuMwbAABAH+jxZd6GsEQioUQiYWVlZW7lypUlxx9//Iw1a9asLC4uHuxdy+rsMm+0IAMAAKBPbd++PXLkkUfOSCaT5pzT1VdfvXZPCsddISADAACgT9XU1KReeOGFlwZ7P3YXg/QAAAAADwEZAAAA8BCQAQAAAA8BGQAAAPAQkAEAAIaAzZs3R2bNmlU3a9asupqamnljx46dG75uaWnp9i2sr7rqqtHr1q3LXsjhU5/61LQVK1b06EYbHVm8ePGE/fff/8AZM2bUHXDAAXV//vOfy/piu32Nq1gAAAAMguuevq56yWNLJm5u3BwbXzG+7eIjLt745UN2/0Yh48ePT7388ssvStIFF1xQW1FRkVqyZMlbPd3ObbfdVnPooYc2TZkyJSlJ99xzz5rd3Sff73//+4ply5aNWLVq1YvxeNxt2rQpGt7IY3clEgn1x+XjaEEGAAAYYNc9fV31+X84f2p9Y33Myam+sT52/h/On3rd09dV90d5V1999eg5c+YcMGvWrLrPfe5zU1KplBKJhE4++eR9ZsyYUTd9+vQDv/e974294YYbRr300ktlp5122n5hy/OCBQtm/vWvfy1NJBKqrKycf+65506cOXNm3fz582dt3LgxKkkrV64smTt37qw5c+YccN5559VWVlbOz9+HDRs2FFdXVyfj8biTpNra2uTUqVMTkvTII4+Uz58/f9bMmTPr5s6dO2vHjh1FjY2N1Ji1BQAAIABJREFU9olPfGLajBkz6urq6g4Ib0t95ZVX1px44on7Hn300fsfeeSR0yXpoosuGj9nzpwDZsyYUbd48eIJvf150YIMAADQx86676zJq95e1WH3gRWbV5S3pdtyWk9bki1F5/3+vGk3PXfTmELvmT12dtNNJ920vqf78vTTT8fvu+++kcuXL3+puLhYp5566tQbbrihesaMGa1bt26Nvvrqqy9K0jvvvBOpqalJXXfddWOvvvrqdR/4wAea87fV2NgYOeqoo3Zce+21G88+++xJ11xzTc3SpUs3n3vuuVO+/vWvv3XWWWdtW7p0acH9/8QnPrH9v/7rvyZMmzZt9oc+9KGG008/fevxxx/f2NTUZGeccca+d9111xuHH35407vvvhspLS1NX3LJJeNjsZh79dVXX3zmmWfiH//4x6evXr16lSQtX768fMWKFS+OGTMmddddd1WtW7cutmLFipecczrqqKOmP/zww+XHHnvszp7+rEK0IAMAAAyw/HDc1fzeePDBB0c8//zz5XPmzKmbNWtW3RNPPFH5xhtvlNTV1bWsXr06/sUvfnHyvffeO6K6ujrV1bbi8Xj6lFNOaZCkBQsWNK1ZsyYmSStWrCg/88wzt0nSP/3TPxXsJlJdXZ1+4YUXXrz66qvXjh49Onn66afvd80111T//e9/j9fW1rYdfvjhTZI0evToVDQa1RNPPFFx5plnvitJCxcubBk7dmzihRdeKJGkI444omHMmDEpSXrooYdGLFu2rKqurq7uwAMPrFu7dm3JSy+9FO/Nz4wWZAAAgD7WVUtv7RW1c+ob62P58ydUTGh76pynXunLfXHO6dRTT33nRz/60ab8ZS+88MIL9957b9XVV1899p577hl15513ru1sW9Fo1IXTkUjEpVKpHgX64uJiLVq0aMeiRYt21NXVNf/qV7+qnjdvXotZ+8045wpsIVBWVpb211u8eHH9+eef/05P9qUztCADAAAMsIuPuHhjPBpP+/Pi0Xj64iMu3tjXZZ1wwgk77rvvvur6+vqoFFzt4rXXXott2rQpmk6nddZZZ21bsmTJppUrV5ZJUnl5ebqhoSHSkzLmzp2787bbbhspSTfffHPBftTLly+Pr1q1Kns1jBUrVpRNnjy5bcGCBc0bN26MPf7442WStHXr1qJkMqkPfvCDO2677bbR4Xu3bNlSfOCBB7bmb/f4449v+PnPf17T0NBQJElvvPFGcXisu4sWZAAAgAEWXq2iL69i0ZFDDz20+cILL9x09NFHz0in0youLnbXXnvt2kgkonPOOWeac05mpksvvXSDJH3+859/58tf/vK0eDyefu65517qThnXXHPNus997nP7XnHFFROOPfbY7ZWVle26a+zYsaPovPPOm7Jjx45IJBJx++67b8utt966trS01P385z9ffe65505pbW0tisfj6ccff/zVCy+88O0zzjhj6owZM+qi0ai78cYb3wwH+Pk+85nPbH/ppZfiCxcunCUFAf+Xv/zl6gkTdn+snnXWfA0AAIDuWbFixZp58+b12Wn+vUlDQ0NRRUVFuqioSNdee231fffdN+qhhx56Y7D3qzMrVqyomTdv3rRCy2hBBgAAQK889thj5YsXL56cTqdVVVWVuvXWW98c7H3qDQIyAAAAeuXEE0/cceKJJ7442PvRVxikBwAA0DfS6XS6zy/Thr6X+T2lO1pOQAYAAOgbq7Zs2VJFSN6zpdNp27JlS5WkVR2tQxcLAACAPpBMJs/evHnzjZs3b54tGiH3ZGlJq5LJ5NkdrcBVLAAAAAAP324AAAAADwEZAAAA8BCQAQAAAA8BGQAAAPAQkAEAAAAPARkAAADwEJABAAAADwEZAAAA8BCQAQAAAA8BGQAAAPAQkAEAAAAPARkAAADwEJABAAAADwEZAAAA8BCQAQAAAA8BGQAAAPAQkAEAAAAPARkAAADwEJABAAAADwEZAAAA8BCQAQAAAA8BGQAAAPAQkAEAAAAPARkAAADwEJABAAAADwEZAAAA8BCQAQAAAA8BGQAAAPAQkAEAAAAPARkAAADwEJABAAAADwEZAAAA8BCQAQAAAA8BGQAAAPAQkAEAAAAPARkAAADwEJABAAAADwEZAAAA8BCQAQAAAA8BGQAAAPAQkAEAAAAPARkAAADwEJABAAAADwEZAAAA8BCQAQAAAA8BGQAAAPAQkAEAAAAPARkAAADwEJABAAAADwEZAAAA8BCQAQAAAA8BGQAAAPAQkAEAAAAPARkAAADwEJABAAAADwEZAAAA8BCQAQAAAA8BGQAAAPAQkAEAAAAPARkAAADwEJABAAAADwEZAAAA8BCQAQAAAA8BGQAAAPAQkAEAAAAPARkAAADwEJABAAAADwEZAAAA8BCQAQAAAA8BGQAAAPAQkAEAAAAPARkAAADwEJABAAAADwEZAAAA8BCQAQAAAA8BGQAAAPAQkAEAAAAPARkDzsyOMrMN/bTtaWbmzCzaH9sHMLRQHwEohICMvZqZrTGzYwap7GPMbLmZ7TSz9WZ2ymDsB4A9w2DVR2Z2ipn91cyazOzRAsvnm9mzmeXPmtn8gd5HYG9DQAZ2g5nVSfqFpG9JqpI0X9Kzg7pTAIarrZKuknR5/gIzi0m6T9LtkkZJulXSfZn5ADpAQB4GMq0a/8/Mns+0dv7MzMaZ2YNmtsPM/mhmo7z1f2Vmm81su5k9ZmYHZubHzOw5M/vXzOuImf1/ZnZxF+WXmtktZrbNzF6UdEje8lozu9fMtpjZm2b2NW/Zd8zsHjO7K7Ovy81sXmbZbZKmSHrAzBrN7BveZk83s3Vm9o6Zfau3P8MCvi3pp865B51zSefcu865N/qhHGBIoT7q+/rIOfdH59zdkjYVWHyUpKikq5xzrc65H0sySR/u6/0AhhIC8vDxSUnHSpohaZGkByVdJKlGwd/B17x1H5Q0XdJYScsl3SFJzrk2SZ+TtMTMDpB0oaSIpEu7KPsSSftlHsdJOjNcYGZFkh6QtELSREkfkfR1MzvOe/9Jkn4lqVpBq+2vzazYOXeGpHWSFjnnKpxz/+W953BJMzPbuzizv+2Y2YVm9l5Hj06O6bDM+1eaWb2Z3W5m1V38HAAEqI8K6EV91JkDJT3vnHPevOcz8wF0gIA8fFztnHvLObdR0l8kPemc+7tzrlXS/0k6KFzROXeTc25HZtl3JM0zs6rMslWSvpd5z2JJZzjnUl2UfYqkS51zW51z6yX92Ft2iKQxzrklzrk259xqSTdI+qy3zrPOuXuccwlJV0qKKxNQO/Fd51yzc26Fgg+7eYVWcs5d7pwb2dGjk+1PknSGgg/66ZJKJV3dxT4BCFAfFdCL+qgzFZK2583bLqlyN7cHDAsE5OHjLW+6ucDrCil7mvJyM3vDzBokrcmsU+Otf6ukaZJ+55x7rRtl10pa771e601PlVSb10pykaRx3jrZ9zrn0pI2ZLbZmc3edJMyx9eHmiXd7Jx71TnXKGmppH/o4zKAoYr6aOA0ShqRN2+EpB0DuA/AXoeAjHynKTiFeIyCwWfTMvPNW+daSb+RdJyZHd6NbdZLmuy9nuJNr5f0Zl5LSaVzzg+b2fdmToFO0q6+dv5pwx4zs4sy/QULPjp56/O9LRtAl6iPulcfdeYFSXPNzP+Zzc3MB9ABAjLyVUpqlfSupDIFLaNZZnaGpAWSvqCgn+CtZtZVa8jdkv7dzEaZ2SRJ/+ote0pSg5l9MzN4JmJms83MHzizwMw+YcG1RL+e2b+/ZZa9JWnf3TlQSXLOLc30Fyz46OStN0v6opnta2Zlkr6p4EMaQN+hPupGfZTZz7iCwXhFZhY3s+LM4kclpSR9zcxKzOyrmfmP7O5+AsMBARn5fq7glONGSS9qV8UvM5ui4FJCn3fONTrnfiHpGUk/7GKb381s801Jf5B0W7gg019wkYLLpL0p6R1JNypoLQrdJ+kzkrYp6Pf7iUz/P0m6TNK3M6dDF+/OAe8O59xNCn5WTyo4tlblDiwC0HvUR91zhoKuKT+R9KHM9A1SdjDjyZI+L+k9SWdJOjkzH0AHLHdgK7BnMbPvSNrfOfe5wd4XAMMb9REwfNCCDAAAAHgIyOgTFlzkv9DAkosGe98ADC/URwB6iy4WAAAAgIcWZAAAAMATHewd6Kmamho3bdq0wd4NAH3k2Weffcc5N2aw96MvUD8BQ8tQqp/QM/3WxcLMbpJ0oqS3nXOzCyw3ST9ScPexJklfcM4t72q7C0tK3DOJhDRlinTppdLpp/f1rgMYQGb2rHNu4QCXOXTqpzvukL71LWnduuFRLjCABqN+wp6hP7tY3CLp+E6WnyBpeubxJQXXb+xaW5vknLR2rfSlLwWVdH+74w5p2jSpqCh4HogyAfSnWzQU6qc77gjKWbt2eJTrlz9YdfJglT3cygUGWb91sXDOPWZm0zpZ5SRJP3dBE/bfzGykmU1wztV3u5CmJumCC6SJE6VYTCopaf/w50ciPT+Q8IOgqSl4HX4QSLSWAHupAaufzjtPSiS6Xnd3LV68q27KLzedDl6btX/0dv755xcu94ILpNraIEyZBc/dme7J8v/7P+kb35Cam4Ny166VzjlHammRPvvZYJ1IZNf6RX3YDjRYnwfDrVy//EE+OzJXmtP/BWJP1K9Xsch8AP2mg1OYv5F0uXPu8czrP0n6pnPumQLrfklBK44WSAvardBdkUgQlIuLc8NzLLbrkR+q//CH9h8EkjRqlHT55VJlpVRRETwqK3Mf5eW9q5w5hYlhYLBOYe5x9RP6T35oDqfNCs8vFLKLiqTXX5eSyfbbj8WkuXM7/5LRnS8jHb33z38OvgDkKyuTFi0K9jXc30LT4etotP060Wju+v46//Ef0tat7cutqZGuuSb3fZ39DLs7z5++/37pm9/c9UVIkkpLpauvlk49NffYwp9dX8j7UrBQ0jPO9WEB2FsM5iC9Qn9wBdO6c+56SddL0kKz3HXGjJF+8pPgP1FLy67n1tbg0dISPNragtdtbUGLTlvbrkf4OpGQtm/PfV0oHEvStm3SP/9zF0doUjweVGKlpcFzefmu5/BRVpYbsisqpBUrpJtvDvZZ2tVK0tAgnXlmEPLDyqQ/EM4xvPVN/TRuXNDi2V09bbD4xCekt95qP3/cOOlXvwq2Fz7S6dzth6/DRzgv3I90etfrcFn4nq98RXrnnfbljh4t/eAH7df3y/Ln5S/35+XPD5+/972Ofx7nnSelUrnb6ujhXOF18+f70y+/XLjctrYgWIY/u/z9z/8558/Ln5+/TqFwLAWfT48/nrv/He17/nRvvPOO9JnP9G4bu6O5WTr77ODhC7/o5AftQl8UCq3jP1atCn6fGPYGMyBvkDTZez1J0qYebaGsTPrhD6VPfrJ76xeqiDt6nUoFLQWHHCJt3Nh+W2PHBsG8qSmovJqadk03NwfT/rMf4LdvlzZvzl2nO/8hm5ulc88NHrFYEL5LSoLwnR/Ew4cfwv1QXl4eBHF/efj43e9yT6EOl9NqwC59Uz9dcYX0/vf35X7luuKK3FPgfrkf+lD/ldvaWrjcH/2o//+v3nZbUCflmzpVuuqq3dum/8XBD6j58/bbL6iX8k2ZIj36aOfb68307NnS+vXty500SXr++a6Po9B0KrXrcy6VCj77wulw/qJFwWdVvrFjpZ/9LPc94XT4ORpOh8u68/DX7eyL0Lnn7lo33N/89+eXW2idQusSjpExmAH5fklfNbNfSnqfpO3d6t8XiwUtu7sTnMJvmT3x/e8X/iC48sqg9aaj/2T+f8ZEIniEFUlb264KKDxdl0oFAXrnzuD5lFM63qd//uddLeP5j507pXff3fU6bEUPW6J3V1NT0HJ9ySWF+3cXeh0+wiDf0Tx/+pFHgt9r2GIStpyn09IZZ/TuGLqyB/R3G/AvBHwZ6cjA10+7I9z+QP8OB6tcKSinUJ186aW7v03/FH1np+uXLi1c9tKlQf3VXy67rHC5l18edPfrL//93x1//p14Yv+VK3X8RWjKlKCbRf4Xmd48+9MdfRnBsNOfl3m7U9JRkmokvSXpEknFkuScuy5zGaX/UTCSvEnSFwv178u3cOFC98wzA9zLrz9DRH7rdRis6+oK/yedOFF64oldpz7906D+KdT805TpdG5Ltt+y3dQUBOhw2WWXdby/H/5w+24p+dP5r/3TtL0RibTvL+6H8zBo5z+H0+Ej/3U8Lj39tPTTn+Z+kYjHpYsvlk4+OejSEo0Gz+HDf727XV3yB8FIwQfQ9df3f9gY7LIz/6fmOde2wrl+TBftDan6aTgajl8qh2O5g1E/0QcZGXvdraaHzQfQYFUOzgWX8il0GnHyZOmVVwr3C/T7tvmnvJLJICz7XUzCMB72E/cD97/9W8f7dsYZuX3H8/uQFwrs+cv7KqznMwsCc/gIA7Q/XShkP/NM4db9sjLp4x8v3EfOH0yTP9Cm0Hr+uv7jG98IzjbkGzNGuuGGwlcTCAfEdPfqBPnTRUXSb38bDP7JnCUYSh9Aw6Z+AgbCHvClYDC+wGPPQEDekw2Hb+75g1n237/jcL5yZeFBLd3p2xau19aW2/0k7ILy6U93vI/f/e6u7jDhI5HI7atX6JG/LH/9VCq3/2C+8eO734evt4NuBhEBGcCeihuFDF973a2mh5XTTx+c/qAD2b8wvIxReDm8jvr4XXaZVFXV9+WHpk7tuL/bRRcF0x31WevpPH/Z3LnShg3ty500KWhdLjTavaOHP+DGf4SDZfzQnkoFfcq3bGlf9ujRwWCnQiPgO7oigbQrpIf7IrUfxZ9OB63HAADswQjIKGw4hHNfRwN/li7ddfmm/nD55R0Pvhk3rv/KlYIrwPT0SgSdjfbv7rLrr2cQDABgj9aft5oGds/pp0tr1gStjWvWDExQP/30ILhNnRq0aE+dOjCD1Qar3N0t2795Qf61RPP7YBcXFx5QedllQRAHAGAPRR9kAANviA6CoX4Chhb6IA9ftCADGHjeWYLnpZWDvTsAAPgIyAAAAICHgAwAAAB4CMgAAACAh8u8AT0QDmp1cjnT4bLuTHf2fkkK7nIsmWy3X/f0vQAAYBcCMvZqaZdW2qXlnAue5XJe589LppNKu3S751Q6FUwrrXR613vCMrKBNsyTmYu/mJnkgpAbTgcLgsBrstz3eNP+e7LT3rbzyyr03rCMQuUXem/2qjXmLZNUZEU5j4hFVFRUpCIVqaioSCZTkRUpWhRtv25RREUWrBOG8/C5yIrazTOz7PpFxkksAMCeh4CMgsLQ6IfDnrSCdrYsDKv5ITR89qdTLrUryKbzXmfWk5QTFoMZypYZBkhJ2cAWBjM/qJmZIoooGo1mg1ywqf5tbX3glQd05d+uVP2Oek2onKALDrtAi2Yu6peyOi27YoK+ftjX9bEZH8v+HlIuJZd27X5f4Wt/vpnJnO0K3/lfEgrMK4kMiau7AQCGGALyMBC2pqZc0EqaSqeUciml0ikl0gm1JluVSCfUlmpTIhU8h0Eo2yrZUYuoOl7m5Nq1VGa3qY67BDz42oP6n6f/R281vqXxFeP1r+/7Vy2asUgyqbioOCfQ9qXBCKoPvPKAvr3s22pJtkiSNu3YpG8v+7YkDXzZjZt08aMXq8iKBiygb2veNiDlAADQEwTkvVDYuhuG3PA5mU6qLdUWBN10Qm3Jtmzw9YOuH3j9U+QRi6g4Uqx4NK7fvPqbQWnVfOCVB/S9v3wvG9rqG+u15M9LFCuK9Wv5vQ2qzjkl0gk1J5rVnGze9RxOdzD/9udvz5YZakm26NvLvq2HVz8sqf0XiPDfrsZyy53vv6eTdX7z2m8Kln3pXy7VqNJRqiqp0sj4SFXFq1QRq+jT7hD+lxGN05w+2zDQgUI3xXL53957uF6hs2v+vI6ew3XDMzUdPcL3ZLuNKWi4KFJQb0csEjxnpv0uUPldmTp7zVgEoD3upLcH8oNua7JVjW2Nak215rTu5gdeZ0ELbsQi7UJvpCjSo/Lzw6IkxaNxfe/o73U7pDrn1Jpq1c62ndqZ2KmmRJMa2xqz0+H8nW2Z15nph954qF1ok6RYJKZDag/J6R8btaiKioqyxxx+OITLsx8elvuzKLT8J8/8RA2tDe3KLS8u1wnTT8gJuC3JFjUlmnIDb6JZKZfq0c85WhRVMp3scPn+1fsXHuzndn1g53/4Zn/+eV1cCq2zpWlLt/e1yIo0omSERpYEgbkqXpUN0CPjI1VVUpWdn12npEojSka0+/tr9/f1U8ltckPiE3o41E8DwTmXc8YrmU4qmU6qNdmq1lRrUDdm6kS/q5Wkdn/nOfL/yjpaLS8wZgfQehtwyu2+lX1fXkNEfj2dHUNQoM++f3Ytf9qflz/Gwu/qFI6VMJf9dpxzrP74hVD4mRGx3PrRr1fD53D9nG5qnex3b6bbNQwMQpDnTnrDFy3IgySVTmVbeluTrTnB0Q82YcVUHCnOtu72dyVx5RNXFmxZXPLYEq1rWNdhuM2f7m5gLC4qVnlxucpj5QXDsSS1pdq0s21n0FqeaTHP9lFOp5V0uwbbhfPD1nV/fjKdLNga1JGdiZ16bO1jKouWKV4cV2m0VGXFZaourVZpcalKo6UqLS5ttzwejausuEyl0VLFi+PB8nBecani0bhikZiOvvVobdqxqV25tZW1+u1pv+32fu6OjsoeWzZWV51wlba3bA8erdv1Xst72t66PTtva/NWvbntTW1v3V7wi4VvRMmIbIAeWTJSz9Y/2+HvGUNb+H/QD73JdFItyZZdwTfT5St/8KpzLrfV1CKKxWI5oTXUn3XkYI0Z6M9y8wc5Z+tKb37+l+z8sSWSssG84ADkbk7nd9Pzw7zZrkagoqIiRZQb5sOH35IeThcaONzVNIOIhzcCcj9Ku3S21bct1ZYNwE3JJiVSCUnKtkAUR4oVi8RUWVLZ7/8pW5Itqt9Rr/rGem3asUn1O4LnTY2Z6cb2oUmSGlob9OMnf5wNeuXF5cFzrFwj4yNVW1mr8lh5EHYzgddfp6PpWCSWLaOzwHjXp+/qk+MPW6f8riof+8XHtLlxc8Fyl525rE/KLeSCwy4o2Fp/wWEX9FuZXZX9jQ9+QwsmLOj2dpLppBpaG7JhenvLdr3X+l6HAbs52dwfh4NBEv5/8kNvyqVyWntbki1qS7ZlvzT7odfMclop49G4yovKB/OQOjRYYwb6u9wweHZU9mANIs7nh3Q/0IdhPn8gcc4ViKTcAcPBjA7DunNOI0pGDMpxYs9AQO6lsO9pGISbE83Z1uCWVEsQgDP/OYsjxYoWRVUaLVVFrKLLbe9OxeSc09bmrUHg3bEpNwRnAvC7ze/mvMdkGls+VrWVtZo9drbebXpXjYnGdtseXzFef/r8nxQt6r8/m4EIjGamqGWOIfOZsPj9iwclqIa/z8H4AOqrsqNFUVWXVqu6tLpb63f0JQi9s615mxrbGgteGcZ/Dlv+0unM/Ey/1vzX/lVnOnsO+aFX2nXaPgy/FSV914+9r0Obcy44S5XYGXQF886ShV3Ddrbt1DVPX1Pw7Np/LPsPPbHhiV1np1z7Fla/W1Sh+X4XiPx1lq1ZVrDcSx69RK9vfV3FkWKVREtUEilRLBJTSaREJdFgOnwdi8Ry1glfh8sLdcUbzEHEhfhjKyLqWdfBnkqlU2pKNPVrGdiz0Qe5BxKphHYmdmb7BYf9UMNWECcXDHQrKs6G4d3VUT/gS468RAdPODjb6hsG4DAE1zfWqzXVmrOtsuIy1VbWakLFhOC5MniurQimx5WPU3GkuMuye9IHuaf8Vt0HXnlAP37qx7uuYnHov2rRzEU5p9D6w0C1lPjHGrZiO7nss79edlou91SyP+l1380/Jd3Re/xl2W1nBm4WR4qzp7H9fod9hT7Ifa8p0aTnNz+vWDSWM7/Q5QqlwjeT6ep9e8pNZgrVTyWREn154Zd18ISDs2E2P+zmB9+cEJxo7HQ8QHeMrxgvqfDVeUJd/kx3jarNWWf1ttUdltvVWIbuihZF2wXq+sb6gtsuKy7TaXNOyzlT2NFzRawi5yxhTwxmd5YrnrhCmxs3y/3EtbnNjutRDkME5G5Ku7RWvb1KzYnm3H7BRcX98kFx1C1Hqb6xvsv1TKYx5WOyYbe2snZXCM7Mqyqp6vE+9rZi8i8tl98XOLvveX3OYkWxbFeTWCSmIitSMp1UIp0InlPBc9Ilsy3zYRcVv59aoRtZmCw7cLEvdBZy0y6d80GXcy1mC0agxyKxoA9lNKao7epj7p/m9Pc1//eXH3YKze/JMmlXv/iWZEvQJzTZqpZki1IulbOuc07RoqiiRdHdDtH+39dQ+gAajPrJOacXt7yoRDqhsuKyAS27P6VdWlt2btHGHRu1sWGjNu3YpI07NurXL/+6XSNAZ0yWE9b8AFdRXFFwWbv1YhUqLy7XojsXFayX+7srVmddz5aduazdwO7sdKo1+zrs7hKu4w92bE0GAx5bU605fcEfePWBDvepuKg46CveDf44k+4+v/j2i7rzhTvVlmrLbqckUqLzDztfH93vo9n6x796hz9vdz+Xh/IXePQMAbmbNjVs0vqG9RpVOqpftv/2zre1vH65/l7/dy3fvFzPv/V8h+t+/5jvB63BI2o1rnzcbn8776n8S8uFwdBvffSnY5GYiouKc071xSKxnErNH3TTXX74zh+YF/b7Dj8wwoCdSCeUTAX9I/071hUaBGKyXdeBVvsBJ12F3OKi4pxR4flXFdnbLqmUP6Aq/FBtTjTnhOhQ+PP0A3RHIXpb8zYdNvmwITNKfDDqp7ca39Kb773Z7S4ue4pkOqm3Gt/KBt/8IFy/o75dABsVH6VtLR1fO/vWk29tF3DLisv67P/cYJxdG8xyuwrm4eBpv9W+3XNny/Ke87vt9IZ/Fiy8Okd4SbzsvKK8cG0Rvfw6ZpkhAAAgAElEQVTOy7l/dwTkYYs+yN2ws22n1jWs08j4yD7ZXiqd0mtbX9Oz9c8Ggbh+uTbu2Cgp+IY8d9xcVRRXFOwHXFtZq5Nnndwn+5EvDJdhn2opt19hGHhLi0uDsFsU9GHLH1keBqP+Eg4o2Z0+aF2F62QqGGAUtmAPlZDbG+GHSok6buTND9GJVEItqaAluiXRop1tO4MvJ8q9LBZ6pyXZorXb16qqpGrAy+7qLFNbqk2bGzfnBl8vAG9u3NzuSjdjysZoYuVEzR47W8ftd5xqK2s1ccRETaycqNrKWpUVl3Ua2g6bdFi/HvNgjRkYrHK7GhMSi8QUK431ScORc04tyZZsYD7u9uM6rCuWfnhpuxtf5d8EK+kyr73p8A6s+fP8hp/utopj6CMgdyHt0npj2xsqjZbu9un5xrZGrdi8Imgh3vx3Pbf5Oe1M7JQUfCAcPOFgfX7e53XwhIM1q2aWYpFYhy0GfTFoLAwwiXQiOzBHCk7pl8fKNaJkRLbfmN/iOxRCYW/CNTrWnRDtt+77D+we55zWvre237+QFlJo8NaFf7xQt6+8XUVWpI0NG/X2zrdzrxEs07iKcZpYOVEHTzg4G3zD8FtbWauSaNc9bQb6yi/+re2T6aSOmHqEDp9yePaYnLmcO0J2dk1j/3Vn1/gttM6JM04c8IFxAxnMzSy4dGZxqWrKajShckKHX4Q+WffJPi8/xCBihAjIXdi8Y7OaE83d/obsnNOGHRuyLcPL65fr1XdfzV7TeMboGTpp1kk6aPxBwYdE5cSCwbO3FVN4dY3w9tE+/zJt2dbgSCxnoB7Q14qsKBhF30mIRvdtbd6qbS3b+rVrRVOiSeu3r9e67euCR8M6rd++Xn/b8Ld2rb9Jl9TKt1ZqQe0CfWDyB7LBNwzC4yr6pjtYX4U2/5rM2WurK91ufEPYjSoejaskUqJ4NK7iSNCNqqOb8WRv4uFdeqzQvOz7MnfJS6czly5TWi5deDuSspcnC7szdefyZfnd4Npd3ixzE5NQ+Ll0xNQjdOS0I7OhPWIRtaXadusmVD0xWJfALFQuhqduB2QzO1zSdOfczWY2RlKFc+7N/tu1wdeUaNK67ev0l/V/0VV/u6pgZdyWatNLW17Ktg4vr1+evUNZeXG55o+fr4/u91EdNP4gzRs/r1uXdwstmrmoy0o/lU5lu0QkXTJbwZmZyqJlGhUfpYpYRU4/YC5+jqFmuNVPbak2rd62WpWxyl5txzmn91re0/qG9Vr73tpsAF67fa3Wb1/f7m6LVSVVmlI1pcObAKVdWrf942292qfu6KxuzB8rEd4cKOcueJk+8iWREpUVlykWiWVv3uP3m++Pq7j0VqFQHs7v6A6a/vLurlso4GfHICRb1ZJq2dUdocC1hMMuaf4dTnsSqAe7O0v2KhZp19bFWzBEdWuQnpldImmhpJnOuRlmVivpV865D/b3DuYbqEEwaZfWi1te1P2v3K//fOw/c75NxiIxfXDSB7UjsUMr31qZHVE9acSkbMvwwRMO1vTq6X32DdvvG+yftowWRbOjfsOKPuwrPBS6RGDo6+2tXIdj/fT61te1vWW7Kksqu+wLnHZpvb3z7ZwAnG0R3r5OO9p25Gx7XPk4TamaoslVkzWlaoqmVk3V5BHBdFU86Ovc1eCt/uTXhf6grvBSm1GLZq8DHLb6hpfd7M2VV1BYoX68qfSuG8Uk0gm1Jduyg6XDy6Jmr2CUCdTZIO2N9RjorkP5x9WUaNLCiQuHzCBi9Ex3W5D/UdJBkpZLknNuk5n1ruliD/dW41sdXhi+LdWmZWuXad64eTp19qk6eMLBmj9+vsZVjOuz8tMuraZEcMc9M1M8GldlrFIVsYpsS0fY2gEMc8Oqftresl1bdm7R6LLRBfsC//uf/l33vXyfopGo1m1fp/UN63MulRUtimpi5URNrpqseePnacqIKZoycoqmjJiiSSMmqbS4tMt96O/T3+GZsXC8hH+ZxHg0nr3sWjwaz2ntjRZFaRgYYOH4g+7w77qYMzDOu+NsGKibkk3BJT1d3vXa87fpXfs9vyyp/eUtwwamzt4T6u0ZGuzduhuQ25xzzsycJJnZnnkf0D7SlGjS2vfWamTpSNXvKHwtYpPp7k/f3aflJtNJNSealUwnVWRFGl06WtVl1aqIVfTr3euAvdywqZ+S6aTe2PqGKkuCD+4r/3Zluy/wiXRCj69/XNNHT9c+o/bRkVOPzAbgKVVTNKFyQq/rk744/e3fhTRsWZSUvfV02EWsPFau4qJd10cnAO+9wruYdvfvzw/U/jYKbrtAeO7sb6XQ+vnv6WgdDA/drSXvNrOfShppZudIOkvSDf23W4Mn7dJavW214sVxFVlRhyNpJ1RO6JPywttTp11asUhMY8rGaFRp8KHAKUCgW4ZN/bSxYaOS6aQqIsFYho6+wEvSA6d2fJOHvtCdMRKSslcuSaQT2aATXqGhNFqqkfGROVfN4cwYQj0N1EBf6tZfnXPuv83sWEkNkmZKutg593C/7tkgCbtWhFetuOCwC/SNP34jp69bb04lOueCmywkmyUnlRaXanLVZI0oGaHSaCmtI0APDZf6aUfrDm3asSnnqhX9/QW+u8J+qPnXUHdyikcKXzWH7hAA9mRdBmQzi0h6yDl3jKQh96Hja040a932dRpRMiI7r25sndIurYpYhXa27dytU4lpl1ZzolltqTaZmSpjlaodWavKkspuXfcTQGHDpX5KpVNavW21KmIVOaHyq4d8VRc9clHOugNxKaxkOqmWZEs2DIeDhUfGR+YOFs5cDg0A9jZdBmTnXMrMmsysyjm3fSB2ajA457R62+p2p/duXH6j4tG4Hj7j4R5dbzQcARve2ri6tFo1ZTX0Jwb60HCpn+ob69WabNXI0ty7eTYnmyVJNaU1erf53X67FFYqnVJzsjk7YC4WiammtEZV8SqVFZdxDXUAQ053k1qLpJVm9rCkneFM59zXOnuTmR0v6UeSIpJudM5dnrf8C5J+IGljZtb/OOdu7OY+9am3d76txrbGnBuC1O+o1/2v3K9TZ5/arXDclmpTU6Ipe41N+hMDA2JI109NiSZtbNiYvcRaqC3VphuX36gFExboF5/8RZ+WmXZptSRbgktYuqCFeFR8lEaVjlJZcRlnvgAMed0NyL/NPLotc+rzGknHStog6Wkzu98592Leqnc5577ak233teZEs9a8tyana4Uk3fzczZKkL87/YofvbUm2ZPsTx4vjmjxisqriVfQnBgbOkK2fwkHDJdGSdl+yf/Pqb1TfWK/vHv3dXpcTjo1oSbRk7/o5Mj5SkyonqTwWXE6N+gzAcNLdQXq3mllM0ozMrFecc4nO3iPpUEmvO+dWS5KZ/VLSSZLyP4AGlXNOb257s13Xiq3NW3X3C3frxOknauKIiTnrNyWaspclGlEyQrUja1VRElyfGMDAGsr105adW3IGDYdS6ZSuf/Z6HVBzgI6YcsRubdu/go4kjSgZoXEjx6kiVqHS4lLOegEY1roVkM3sKEm3Slqj4N43k83sTOfcY528baKk9d7rDZLeV2C9T5rZEZJelXS+c259/gpm9iVJX5KkKVOmdGeXu+3tnW+roa2hXReK25+/Xc3JZp2z4JzsvIbWBqVdWtWl1RpdOloVsQr63gGDbKjWTy3JloJntiTp4dUP68333tQPj/tht1t2E6mEWpItSqaTkqSy4jJNrJyoypJKlRWXcWk1APB0t4vFFZI+6px7RZLMbIakOyUt6OQ9hWrt/PtaPyDpTudcq5l9WcGH3Ifbvcm56yVdLwW3cu3mPnepJdmite+tVVVJbt++nW07dfvzt+sj+3xE+1fvH+6D0i6tg8YfRCgG9ixDrn5yzmnNe2tUHCluF1ydc/rpsz/VtKppOm6/4zrchj+wTgqubjG2fGx2YB2DhQGgY92tIYvDDx9Jcs69amZdpcQNkiZ7rydJyrlgp3PuXe/lDZK+38396bWwa0U0Em33AXT3C3dre+t2fWnBl7LzdiZ2qrq0mnAM7HmGXP30btO72ta8TaPLRrdb9pd1f9GLW17UpR++NKfuKjSwrrq0OjuwLhaJDdTuA8Ber7sB+Rkz+5mk2zKv///27j04rvLM8/j3kaybJYNsfJG5rS+QcAnE2EpCaoHNJMSTMBk7s8UtwAyMwRgmmcxkKlubLFOzzFRlZ9mp7ExtVWaxHRvDcr/tcJmES8ABMjUBZGPH4Bu2ZWxjj7EtW7akVl+f+eMcOS2pu9WS+uKWfp+qLnWf8/Z53rctP/3qnPe8783AuiHe8y5wvpnNJrgL/EbgpvQCZjbT3fuWgloEbMmzPqN2qOcQndHOQUMrYskYqzes5vNnfZ55LfP6bZ/eOL1U1ROR/I2p/BRLxmg/1j5o1oo+y9ctp6WphUWfXtRve0ekg2mN0zin/hwaaxupq67TjXUiIiOUbwf5buDbwHcJLk2+Cfxjrje4e8LMvgO8TDCN0mp3/8DM/gZoc/fnge+a2SIgAXQAt42oFcPUm+il/Wj7oKEVAM9te45Puj/hb7/ytye3JVNJJlRNoKm2qRTVE5HhGVP5aU/nHqqsKuMQiLb9bbTtb+OeK+/pd0Y4mogyqXYS5085vxRVFBEZ88x96CFzZtYI9Lp7MnxdDdS5e0+R6zdIa2urt7W1jfj97s7Ww1uJJCKDOrzJVJJrHrmGxtpGnrn+mZNnX45Hj9PS1MLZp509qrqLyGBmts7dW0fx/jGTn45GjrL18NaMQysAlr6wlE0HN7H21rU01DSc3H4scow5k+cwtXHqiGOLyGCjzU9SufKdx+c1oCHtdQPwi8JXp/gO9Ryis7cz49ngV3e9yu7O3SxdsLTfpclkKjmsVfREpKTGRH5KpBLsOrqLSXWTMu7fcmgLb370JrfNu61f59jdwcg6JENERIYv3w5yvbt39b0In08sTpWK5+S0SfWDp01yd1asW8Gs02excM7Ck9tjyRj1NfVMrKm45oqMF2MiP+3t3EvKU1lvplu+bjlNtU3cdEm/odK6gVhEpAjy7SB3m9n8vhdm1gpEilOl4uibNmlC1YSMY/v+Ze+/8MGhD7hj/h397gzvjnXT0thSyqqKyPBUfH46ET3Bwe6DGec8Bmg/2s5LO17i5ktuHlQmnozrBmIRkQLL9ya9PweeMrP9BHOFngncULRaFcHhnsNZp00CWLFuBdMbp7P4gsWD9jXXNxe7eiIychWdn5KpJDs7dtJY05h11omV61dSW13LrZ+9td/2RCpBTVUNk2ozD8sQEZGRyXkG2cw+Z2Yt7v4ucAHwBMEd3S8B7SWoX0FEE9Gc0yZt/LeNvP3x2yyZt6Tf5c1IPMJpdadRN6GuVFUVkTyNlfx0oOsA0VQ0a57Zf2I/z217jusuum7QH/jdsW5amlo0nZuISIENNcRiORALn38R+G/AT4CjhCtHneqGGloBwdi+0+tO57qLr+u3vTfRS0uThleInKIqPj91x7rZd3xfxikn+6x+bzUASy5bMmhfylNMbphctPqJiIxXQw2xqHb3jvD5DcAKd38GeMbMNhS3aoVxpOcIHZGOrEMrdnTs4LX21/j2577db2aLvunvst1RLiJlV9H5KeUpdh3dRcOEBqos87mKIz1HeGrzUyz61CLOOu2sfvuiiShNtU39ZrQQEZHCGOoMcrWZ9XWivwK8nrYv3/HLZRNNRNl1bFfO6Y9WrltJw4QGbrn0ln7bu+PdTJs4LetZZxEpu4rOTwe7DtId687ZwX1o40NEE1HuWHDHoH098R5d4RIRKZKhvkQeA94ws8MEd4W/BWBm5wGdRa7bqPQNrai26qyd3I+Pf8yLH77ITZfcNGie43gyzrTGaaWoqoiMTMXmp95EL3s69+T84/1E9AQPb3qYhXMXMnfy3H773B0z09zHIiJFkrOD7O4/MrPXgJnAK/7bZfeqgD8tduVGoyPSwdHeozkX+HhgwwMALJnXf2xfIpXQ0tIip7hKzU/uTvvRdmqqa/pNKTnQo5sepSvWxbIFywbt6453M7Vhqq5wiYgUyZDZ1d1/nWHb9uJUpzCiiSg7j+7MOqcoBB3ovrF9MyfN7LevO9bNzEkzdWe4yCmuEvPTkZ4jdPZ2MmVi9j/eI/EIazau4cpzr+Ti6RcP2h9LxJg2RVe4RESKJd+FQiqGu/NR50c5h1ZA7rF9KU9paWkRKbi++yIyreaZ7unNT9MR6eCu1rsG7Ysn49RNqNMVLhGRIhpzHeSOSAdHeo7knH2iK9bFI5se4atzvjpobF8sGaOhpkFLS4tIweXzx3ssGWPVe6tYMHMBrWe2DtqvuY9FRIpvTHWQY8kYu47uyjm0AuDx9x/nePQ4SxcsHbSvO97NzKaZGd4lIjJyHT1D//EO8OL2FznQdYBlrYPHHgM4rrmPRUSKbEx1kHcf242ZUVNdk7VMNBFlzYY1fPHsL3LpjEv77XN3cHRnuIgUVDwZp/1Y+5Cd42QqyYp1K7hw6oVcde5Vg/b3Jno5re406ifUF6uqIiLCGOog952dGers8T9t/ScO9RzKeGd4JBGhub6533LTIiKjtff4XlKeGjK3vLrrVdqPtbOsdVnGIRSReERzH4uIlMCY6CDHkrEhZ62AYPq2n773Uz4z/TNcfvblg/b3JnqZ0TSjWNUUkXHoePQ4B7sODpmf3J3l65Yzq3kWC+csHLQ/5SnMbMjjiIjI6I2JDvKezj1UWVXOoRUAr+x8hT2de1i2YPDZmZSnqLIqJtVqaWkRKYxkKsnOjp001TYNeVPdW3veYvOhzSydvzTj/Mg98R6mN07POXeyiIgURsV3kDt6OjjUfWjIsX19Z2dmN8/m6jlXD9qvLx8RKbT9J/YTS8Wom1A3ZNnl65bT0tTCok8vyrg/lowxdeLUQldRREQyqOgOcjwZz2vWCgjOzmw9vJWl85dSZYObHU/G9eUjIgXTHetm3/F9NNc1D1m2bX8bbfvbuP2y2zOOU44n49RX19NY01iMqoqIyAAV3UH+qPMjgCGHVgCsWLeClqYWfv/Tvz9oXyKVoLa6Vl8+IlIQKU+x8+hOJtZMzGu+4uXrljO5fjLXXXRdxv1dsS6t7ikiUkIV20E+GjnKoe5DQ65IBbD+wHre3f8ufzzvjzOenemOdTOjcYa+fESkIA52HSQSj9BQ0zBk2c2HNvPmR29y27zbspZ3d5rrhz4TLSIihVGRHeR4Ms7Ojp1Djjvus2LdCprrm7n+4usz7k95ShPvi0hBROIR9nTuyXu2ieXrltNU28RNl9yU9XjNDc15jWMWEZHCqMgO8p7OPQB5zVe8/ch21u5eyx9e+ocZl4+OJqJMrJmY15keEZGhtB9tp7a6Nq8bfncd3cXLO17m5ktuztqhjiQ097GISKlVXAc55SkO9eQ3tAKCs8cTayZyy6W3ZNwfiUe0tLSIFETSk3RGO2msze9+hpXrV1JbXcutn701435NPykiUh4V10EGMPIbK7z3+F5+9uHPuOHiGzKO33N3HNfS0iJSMJlmyclk/4n9PL/tea6/+HrOmHhGxjLdsW5aGls0/aSISIlVZAc5X6vfW02VVXHbvNsy7o8kIkxpmJLXLBgiIoW0+r3VACy5bEnWMvFkPGvnWUREimfMdpAP9xzmmc3PsPiCxVnH70UTUaY3Ti9xzURkvDvSc4SnNj/Fok8t4sxJZ2YsE0vGaKhtyHjvhIiIFNeY7SA/tPEhYskYd1x2R8b9yVSSKquiqbapxDUTkfHuoY0PEU1EuWNB5vwEweqeM5s097GISDmMyQ7yiegJHtn0CAvnLmT25NkZy/TEe5jROENj+0SkpE5ET/DwpodZOHchcyfPzVjG3TX3sYhIGY3JDvJj7z9GV6yLZQuWZS2TSCWYMnFKCWslIgKPbnp0yPwUSUSYXD85r6ksRUSk8IraQTazr5nZNjPbYWY/yLC/zsyeCPe/bWazRhuzN9HLgxsf5IpzruDi6RdnLBNPxqmrrtPS0iLjWDnyUyQeYc3GNVx57pVZ8xME90fMaJox2nAiIjJCResgm1k18BPg68BFwLfM7KIBxW4Hjrr7ecDfA/eNNu6zW57lcM9hli5YmrVMd6yblkktGtsnMk6VKz89vflpOiId3NV6V9YyffdH5LtSqIiIFF4xzyB/Htjh7rvcPQY8DiweUGYx8GD4/GngKzaKXmsilWDVe6v47IzP8oWzvpC1nKOxfSLjXMnzUywZY9V7q1gwcwGtZ7ZmLdcd76alqSXv+ZRFRKTwipmBzwL2pr3eF27LWMbdE0AnMOJJP3/+4c/Zd3wfdy64M+vZ4d5EL021TdRPqB9pGBGpfCXPTy9se4EDXQdY1pp97DEEf+hr7mMRkfIqZgc5Uw/VR1AGM7vTzNrMrO3w4cMZg7k7K9av4Lwp5/Hl2V/OWqlIPJJ1XmQRGTeKkp+OHDqSMVgylWTF+hVcOPVCrjr3qqyViiVjNNRo7mMRkXIrZgd5H3BO2uuzgf3ZypjZBOB0oGPggdx9hbu3unvr1KlTMwZ746M32H5kO0vnL816adLdMTMtLS0iRclPZ0zLfOb3lV2vsPvYbpa1Lst570N3vJszmzIvHCIiIqVTzA7yu8D5ZjbbzGqBG4HnB5R5Hrg1fH4t8Lq7DzpDk4/l65Zz5qQz+b3zfy9rmZ54D1MapjChasJIQojI2FGy/OTuLG9bzqzmWSycszBnORzdHyEicgooWgc5HLP3HeBlYAvwpLt/YGZ/Y2aLwmKrgDPMbAfwF8CgqZby0ba/jfUH1rNk3hJqqmuyloslY1paWkRKmp/e3PMmWw5vYen8pTkXJuqJ9zBl4pScOUxERErDRnjCtmzMrIta9pAiOdy3UkUVMXpGEX4qkHkQdGmUM75ij7/4pYr9H9x9WgniFN0o8hNUUU2cXpzUCMPrd1Wxx1N85Scpqkoca7DVo559jqQiMrM29/LELnd8xS6P8dz2CqX8pNjjIna545e77TL2aaJNEREREZE06iCLiIiIiKSpxA7yinEau9zxFXv8xS932yvReP73Gq9tH6+xyx2/3G2XMa7ibtITERERESmmSjyDLCIiIiJSNOogi4iIiIikqagOspl9zcy2mdkOMxvRpP3DjLfbzDaZ2QYzawu3TTGzV83sw/Dn5ALFWm1mn5jZ+2nbMsaywP8JP4ffmNn8IsW/18w+Dtu/wcyuSdv3wzD+NjP73VHEPcfM1prZFjP7wMz+LNxekrbniF+Ktteb2TtmtjGM/dfh9tlm9nbY9ifCld4ws7rw9Y5w/6wixF5jZu1p7Z4Xbi/479xYUurcFMYcF/mpXLkpPJbyk/KTjFfuXhEPoBrYCcwBaoGNwEVFjrkbmDpg2/8CfhA+/wFwX4FiXQXMB94fKhZwDfBzwIDLgbeLFP9e4PsZyl4Ufv51wOzw36V6hHFnAvPD55OA7eHxS9L2HPFL0XYDmsLnNcDbYZueBG4Mt98P3B0+/xPg/vD5jcATo2h3tthrgGszlC/479xYeZQjN4Vxx0V+KlduCo+n/OTKT3qMz0clnUH+PLDD3Xe5ewx4HFhchnosBh4Mnz8IfLMQB3X3N4GOPGMtBh7ywK+BZjObWYT42SwGHnf3qLu3AzsI/n1GEveAu68Pn58gWPb3LErU9hzxsylk293du8KXNeHDgS8DT4fbB7a97zN5GviKmVmBY2dT8N+5MeRUyU0wBvNTuXJTGFv5KaD8JONOJXWQzwL2pr3eR+5EUQgOvGJm68zsznDbDHc/AEHyAqYXMX62WKX8LL4TXrJanXa5tijxw0tylxGcLSh52wfEhxK03cyqzWwD8AnwKsEZn2Punshw/JOxw/2dwBmFiu3ufe3+UdjuvzezuoGxM9RrvCvXZzPe81PJchMoP6H8JONMJXWQM/0lWuw56v6ju88Hvg5828yuKnK8fJXqs/i/wFxgHnAA+HGx4ptZE/AM8OfufjxX0ULHzhK/JG1396S7zwPOJjjTc2GO4xc1tpl9BvghcAHwOWAK8F+LEXuMKddnM57zU8lyEyg/ofwk41AldZD3AeekvT4b2F/MgO6+P/z5CfD/CRLEwb5LN+HPT4pYhWyxSvJZuPvBMEmlgJX89lJdQeObWQ1B8n/E3Z8NN5es7Znil6rtfdz9GPBLgvFzzWY2IcPxT8YO959O/pee84n9tfCSrrt7FHiAIrd7jCjLZzOe81Mp/38qPyk/yfhUSR3kd4HzwztoawluAni+WMHMrNHMJvU9BxYC74cxbw2L3Qo8V6w65Ij1PPBH4Z27lwOdfZf7CmnAGK4/IGh/X/wbw7uWZwPnA++MMIYBq4At7v6/03aVpO3Z4peo7dPMrDl83gBcTTDGcC1wbVhsYNv7PpNrgdfdfURnSbLE3pr2pW8EYwvT213037kKVdLcBMpPpfj/GcZRfkL5ScYpPwXuFMz3QXCn6naCcVD3FDnWHIK7gTcCH/TFIxhT9RrwYfhzSoHiPUZwqSxO8Nfw7dliEVxO+kn4OWwCWosU//+Fx/8NQQKamVb+njD+NuDro4h7BcGlsN8AG8LHNaVqe474pWj7pcB7YYz3gb9K+917h+AGm6eAunB7ffh6R7h/ThFivx62+33gYX57J3nBf+fG0qOUuSntd2Rc5Kdy5abwWMpPyk96jNOHlpoWEREREUlTSUMsRERERESKTh1kEREREZE06iCLiIiIiKRRB1lEREREJI06yCIiIiIiadRBPkWZmZvZj9Nef9/M7i3QsdeY2bVDlxx1nOvMbIuZrU3bdomZbQgfHWbWHj7/xTCP/XLfPLA5yvzIzH5npPUfcKx9ZrbJgiVOXzKznEv45lm/JWbWUoj6iZSS8tOQx1Z+Eqlw6iCfuqLAfzazqeWuSDozqx5G8duBP3H3k18C7r7J3ed5sITo88B/CV9fPSDOBHJw99919+MZDvEAAARmSURBVBNDlLnH3dfmKjNMV7r7pQRzc/5gtPUDlgD6ApJKpPyUg/KTSOVTB/nUlQBWAN8buGPgGRYz6wp/fsnM3jCzJ81su5n9TzO72czeCc8uzE07zNVm9lZY7hvh+6vN7O/M7N3wTMSytOOuNbNHCSZhH1ifb4XHf9/M7gu3/RXBJPf3m9nf5dNgM7vazH5hZo8TTBKPmb1gZuvM7AMzuyOt7D4zazaz88K4q8IyPzez+rDMw2b2zbTy95rZe2HbPhVun25mr5nZejP7RzP72MIVnHJ4EzgvfP8taW3/H/nWz8xuAOYBT4RnqGrDz35zWL/78vnMRMpE+QnlJ5ExrdwrleiR+QF0AacBuwnWtP8+cG+4bw1wbXrZ8OeXgGPATKAO+Bj463DfnwH/kPb+lwj+QDqfYHWqeuBO4C/DMnVAGzA7PG43MDtDPc8E9gDTgAkEKx19M9z3S3KsaJShHVeH7T43bVvfClUTgc3A5PD1PqCZ4IsgDlwSbn8WuDF8/nBaXfYBd4fPvwvcHz6/n+AsEcA3CFatas5Q1754Fr7nR8DZ4b/PVKAGeAP4xjDq9ytgXvh8BsGKaH2L9wyqgx56nCoP5aeT25Sf9NBjjD50BvkU5u7HgYcIEma+3nX3A+4eJVh285Vw+yZgVlq5J9095e4fAruAC4CFBOvZbwDeJlhO9fyw/Dvu3p4h3ueAX7r7IXdPAI8AVw2jvgP9q7vvSXv9PTPbCPwrQcKfm+E9O9y978zROvq3M92zGcpcATwO4O4vArkuO75FsNRrA3Af8AXgdXc/7O5x4FEytz2f+nUAKWClmf0BwRe+yClL+QlQfhIZs3KOo5JTwj8A64EH0rYlCIfHmJkBtWn7omnPU2mvU/T/9x64xrgTnH34U3d/OX2HmX2J7AnRhmzB8JyMY2ZXEyT0y909Yma/IjiTNFB6m5Nk/72OZigznPpf6e7H0uqX73uHrJ+7x82sFfgqcCNwN0GHQORUpvyk/CQyJukM8inO3TuAJwluKOmzG1gQPl9McPlsuK4zs6pw3N8cYBvwMnC3mdUAmNmnzKxxiOO8DfwnM5tqwQ0y3yK4lFcIpwMd4ZfPxQRngwrtV8D1AGZ2DZDzzu4Bfg38jpmdYcFNOzcyvLaf6ItnwR3lp4Vnib4HXDaM44iUhfKT8pPIWKUzyJXhx8B30l6vBJ4zs3eA1xjZ5a5tBMlyBnCXu/ea2U8JLq+tD88+HAK+mesg7n7AzH4IrCU42/Ezd39uBPXJ5J+BO8NLmFsJvuwK7b8Dj5rZzQTjEw+S5+fp7vvCm31+SdD2F9z9n4cR+wHgp2YWARYBT5tZHcEfrn8xjOOIlJPyk/KTyJjTN+BeZFwK7yhPuHvCzK4guFGotdz1EhFRfhIpH51BlvFuFvBYePk1Ciwrb3VERE6ahfKTSFnoDLKIiIiISBrdpCciIiIikkYdZBERERGRNOogi4iIiIikUQdZRERERCSNOsgiIiIiImn+HXUP7zEbsfZBAAAAAElFTkSuQmCC\n",
      "text/plain": [
       "<Figure size 720x504 with 4 Axes>"
      ]
     },
     "metadata": {
      "needs_background": "light"
     },
     "output_type": "display_data"
    }
   ],
   "source": [
    "# Criar curvas de aprendizagem para tamanhos de conjunto de treinamento variável e profundidades máximas\n",
    "vs.ModelLearning(features, prices)"
   ]
  },
  {
   "cell_type": "markdown",
   "metadata": {},
   "source": [
    "### Questão 4 - Compreendendo os Dados\n",
    "* Escolha qualquer um dos gráficos acima e mencione a profundidade máxima escolhida.\n",
    "* O que acontece com a pontuação da curva de treinamento se mais pontos de treinamento são adicionados? E o que acontece com a curva de teste?\n",
    "* Ter mais pontos de treinamento beneficia o modelo?\n",
    "\n",
    "**Dica:** As curvas de aprendizagem convergem para uma pontuação em particular? Geralmente, quanto mais dados você tem, melhor. Mas, se sua curva de treinamento e teste estão convergindo com um desempenho abaixo do benchmark, o que seria necessário? Pense sobre os prós e contras de adicionar mais pontos de treinamento baseado na convergência das curvas de treinamento e teste."
   ]
  },
  {
   "cell_type": "markdown",
   "metadata": {},
   "source": [
    "**Resposta: **\n",
    "\n",
    "No grafico com max_depth=3:\n",
    "A medida que adicionamos pontos de treinamento, o score da curva de treinamento diminui até chegar o momento em que fica mais constante(em 300 a 350 pontos).\n",
    "O inverso acontece com a curva de teste, a medida que aumentamos o numero de pontos de treinamento, o score de teste aumenta, até ficar mais constante proximo do score de treinamento.\n",
    "\n",
    "Ter mais pontos de treinamento não beneficiaria o modelo, pois perto de 350 ja é o ideal, colocar mais pontos pode fazer com que o modelo fique muito pesado."
   ]
  },
  {
   "cell_type": "markdown",
   "metadata": {},
   "source": [
    "### Curvas de Complexidade\n",
    "A célula de código a seguir produz um gráfico para um modelo de árvore de decisão que foi treinada e validada nos dados de treinamento utilizando profundidades máximas diferentes. O gráfico produz duas curvas de complexidade – uma para o treinamento e uma para a validação. Como a **curva de aprendizagem**, a área sombreada de ambas as curvas de complexidade denota uma incerteza nessas curvas, e o modelo pontuou em ambos os conjuntos de treinamento e validação utilizando a função `performance_metric`.  \n",
    "\n",
    "** Execute a célula de código abaixo e utilize o gráfico para responder as duas questões a seguir. **"
   ]
  },
  {
   "cell_type": "code",
   "execution_count": 23,
   "metadata": {},
   "outputs": [
    {
     "data": {
      "image/png": "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\n",
      "text/plain": [
       "<Figure size 504x360 with 1 Axes>"
      ]
     },
     "metadata": {
      "needs_background": "light"
     },
     "output_type": "display_data"
    }
   ],
   "source": [
    "vs.ModelComplexity(X_train, y_train)"
   ]
  },
  {
   "cell_type": "markdown",
   "metadata": {},
   "source": [
    "### Questão 5 - Equilíbrio entre viés e variância\n",
    "* Quando o modelo é treinado com o profundidade máxima 1, será que o modelo sofre mais de viés (erro sistemático) ou variância (erro aleatório)?\n",
    "* E o que acontece quando o modelo é treinado com profundidade máxima 10?\n",
    "* Quais pistas visuais existem no gráfico para justificar suas conclusões?\n",
    "\n",
    "**Dica:** Como você sabe que um modelo está experimentando viés alto ou variância alta? Viés alto é um sinal de *underfitting* (o modelo não é complexo o suficiente para aprender os dados) e alta variância é um sinal de *overfitting* (o modelo está \"decorando\" os dados e não consegue generalizar bem o problema). Pense em modelos (com profundidade de 1 e 10, por exemplo) e qual deles está alinhado com qual parte do equilíbrio."
   ]
  },
  {
   "cell_type": "markdown",
   "metadata": {},
   "source": [
    "**Resposta: **\n",
    "\n",
    "Quando o modelo é treinado com a profundidade máxima 1, o modelo sofre de viés alto(underfitting). \n",
    "Quando o modelo é treinado com a profundidade máxima 10, o modelo sofre de alta variância(overfitting). \n",
    "O gráfico nos mostra que com baixa profundidade máxima temos um score baixo para ambas as curvas, que é o caso de viés alto.\n",
    "O gráfico também nos mostra que com alta profundidade máxima como é o caso do 10, o score da curva de treino aumenta, porém o da curva de validação diminui, com ambas as curvas afastadas temos o caso da alta variancia."
   ]
  },
  {
   "cell_type": "markdown",
   "metadata": {},
   "source": [
    "### Questão 6 - Modelo Ótimo de Melhor Suposição\n",
    "* Qual profundidade máxima (`'max_depth'`) você acredita que resulta em um modelo que melhor generaliza um dado desconhecido?\n",
    "* Que intuição te levou a essa resposta?\n",
    "\n",
    "**Dica: ** Olhe no gráfico acima e veja o desempenho de validação para várias profundidades atribuidas ao modelo. Ele melhora conforme a profundidade fica maior? Em qual ponto nós temos nosso melhor desempenho de validação sem supercomplicar nosso modelo? E lembre-se, de acordo com a [Navalha de Occam](https://pt.wikipedia.org/wiki/Navalha_de_Occam), sempre devemos optar pelo mais simples ao complexo se ele conseguir definir bem o problema."
   ]
  },
  {
   "cell_type": "markdown",
   "metadata": {},
   "source": [
    "**Resposta: **\n",
    "\n",
    "Acredito que a algo próximo a profundidade 3 é o ideal, generaliza melhor um dado desconhecido. Ao observar o gráfico vemos que próximo a 3 as duas curvas estão bem próximas e com score considerável, nem com vies alto, nem com variância alta."
   ]
  },
  {
   "cell_type": "markdown",
   "metadata": {},
   "source": [
    "-----\n",
    "\n",
    "## Avaliando o Desempenho do Modelo\n",
    "Nesta parte final do projeto, você irá construir um modelo e fazer uma estimativa de acordo com o conjunto de atributos do cliente utilizando um modelo otimizado a partir de `fit_model`."
   ]
  },
  {
   "cell_type": "markdown",
   "metadata": {},
   "source": [
    "### Questão 7 - Busca em Matriz\n",
    "* O que é a técnica de busca em matriz (*grid search*)?\n",
    "* Como ela pode ser aplicada para otimizar um algoritmo de aprendizagem?\n",
    "\n",
    "** Dica: ** Quando explicar a técnica de busca em matriz, tenha certeza que você explicou o motivo dela ser usada, o que a 'matriz' significa nesse caso e qual o objetivo da técnica. Para ter uma resposta mais sólida, você pode também dar exemplo de um parâmetro em um modelo que pode ser otimizado usando essa técnica."
   ]
  },
  {
   "cell_type": "markdown",
   "metadata": {},
   "source": [
    "**Resposta: **\n",
    "\n",
    "A busca em matriz é utilizada para tentar encontrar, de forma automatica, parametros melhores para o modelo, para que ele tenha a melhor performance possivel. Nós definimos alguns parametros, então ele testa todos os parametros e ve qual o melhor modelo."
	"\n",
	"Digamos que queremos descobrir o melhor valor para o parametro A, e temos uma lista dos possiveis valores para esse parametro: lista_A= list(range(1,11)).
	"\n",
	Então criamos um dicionario com 'C' como chave e a 'lista_A' como valor chamado "parametros_grid":"
	"\n",
	"{'C':[1,2,3,4,5,6,7,8,9,10]}"
	"\n",
	"Agora criamos o nosso classificador: lr = LogisticRegression()."
	"\n",
	"Então chamamos o GridSearch: grid = GridSearchCV(lr, parametros_grid, cv=10, scoring='accuracy')"
	"\n",
	"As entradas são o classificador lr, o parametro com seus possiveis valores, a validação cruzada que no caso são 10 folds e a métrica de desempenho."
	"\n",
	"Então, o GridSearchCV vai validar nosso modelo variando o valor do parametro C de 1 a 10."
	"\n",
	"A métrica de desempenho usada calcular o resultado de cada teste é a acurácia(scoring='accuracy')."
	"\n",
	"O objeto grid guarda o retorno de GridSearchCV, onde podemos extrair as informações do melhor modelo."
	"\n",
   ]
  },
  {
   "cell_type": "markdown",
   "metadata": {},
   "source": [
    "### Questão 8 - Validação Cruzada\n",
    "* O que é a técnica de treinamento de validação-cruzada k-fold?\n",
    "* Quais benefícios essa técnica proporciona para busca em matriz ao otimizar um modelo?\n",
    "\n",
    "**Dica:** Lembre-se de expllicar o que significa o 'k' da validação-cruzada k-fold, como a base de dados é dividida e quantas vezes ela é executada.\n",
    "\n",
    "Assim como há um raciocínio por trás de utilizar um conjunto de teste, o que poderia dar errado ao utilizar busca em matriz sem um conjunto de validação cruzada? Você pode utilizar a [documentação](http://scikit-learn.org/stable/modules/cross_validation.html#cross-validation) para basear sua resposta."
   ]
  },
  {
   "cell_type": "markdown",
   "metadata": {},
   "source": [
    "**Resposta: **\n",
    "\n",
    "Na validação cruzada k-fold, a amostra original é dividida aleatoriamente em k amostras de tamanhos iguais. É executado k vezes e cada vez, usamos o subconjunto k-1 para testar o modelo e usamos os subconjuntos restante para treinar o modelo. O beneficio é que podemos validar o modelo sem perder dados utilizados para treinamento. "
   ]
  },
  {
   "cell_type": "markdown",
   "metadata": {},
   "source": [
    "### Implementação: Ajustar um Modelo\n",
    "Na sua última implementação, você vai precisar unir tudo o que foi aprendido e treinar um modelo utilizando o **algoritmo de árvore de decisão**. Para garantir que você está produzindo um modelo otimizado, você treinará o modelo utilizando busca em matriz para otimizar o parâmetro de profundidade máxima (`'max_depth'`) para uma árvore de decisão. Esse parâmetro pode ser entendido como o número de perguntas que o algoritmo de árvore de decisão pode fazer sobre os dados antes de fazer uma estimativa. Árvores de decisão são parte de uma classe de algoritmos chamados *algoritmos de aprendizagem supervisionada*.\n",
    "\n",
    "Além disso, você verá que a implementação está usando o `ShuffleSplit()` como alternativa para a validação cruzada (veja a variável `cv_sets`). Ela não é a técnica que você descreveu na **Questão 8**, mas ela é tão útil quanto. O `ShuffleSplit()` abaixo irá criar 10 (`n_splits`) conjuntos misturados e 20% (`test_size`) dos dados serão utilizados para validação. Enquanto estiver trabalhando na sua implementação, pense nas diferenças e semelhanças com a validação k-fold.\n",
    "\n",
    "** Fique atento que o `ShuffleSplit` tem diferentes parâmetros nas versões 0.17 e 0.18/0.19 do scikit-learn.**\n",
    "* [Versão 0.17](http://scikit-learn.org/0.17/modules/generated/sklearn.cross_validation.ShuffleSplit.html#sklearn.cross_validation.ShuffleSplit) - `ShuffleSplit(n, n_iter=10, test_size=0.1, train_size=None, indices=None, random_state=None, n_iterations=None)`\n",
    "* [Versão 0.18](http://scikit-learn.org/0.18/modules/generated/sklearn.model_selection.ShuffleSplit.html#sklearn.model_selection.ShuffleSplit) - `ShuffleSplit(n_splits=10, test_size=’default’, train_size=None, random_state=None)`\n",
    "\n",
    "Para a função `fit_model` na célula de código abaixo, você vai precisar implementar o seguinte:\n",
    "- Utilize o [`DecisionTreeRegressor`](http://scikit-learn.org/stable/modules/generated/sklearn.tree.DecisionTreeRegressor.html) do `sklearn.tree` para gerar um objeto regressor de árvore de decisão.\n",
    "  - Atribua esse objeto à variável `'regressor'`.\n",
    "- Gere um dicionário para `'max_depth'` com os valores de 1 a 10 e atribua isso para a variável `'params'`.\n",
    "- Utilize o [`make_scorer`](http://scikit-learn.org/stable/modules/generated/sklearn.metrics.make_scorer.html) do `sklearn.metrics` para gerar um objeto de função de pontuação.\n",
    "  - Passe a função `performance_metric` como um parâmetro para esse objeto.\n",
    "  - Atribua a função de pontuação à variável `'scoring_fnc'`.\n",
    "- Utilize o [`GridSearchCV`](http://scikit-learn.org/stable/modules/generated/sklearn.grid_search.GridSearchCV.html) do `sklearn.grid_search` para gerar um objeto de busca por matriz.\n",
    "  - Passe as variáveis `'regressor'`, `'params'`, `'scoring_fnc'` and `'cv_sets'` como parâmetros para o objeto. \n",
    "  - Atribua o objeto `GridSearchCV` para a variável `'grid'`."
   ]
  },
  {
   "cell_type": "code",
   "execution_count": 31,
   "metadata": {},
   "outputs": [],
   "source": [
    "# TODO: Importar 'make_scorer', 'DecisionTreeRegressor' e 'GridSearchCV'\n",
    "from sklearn.tree import DecisionTreeRegressor\n",
    "from sklearn.metrics import make_scorer\n",
    "from sklearn.model_selection import GridSearchCV\n",
    "\n",
    "def fit_model(X, y):\n",
    "    \"\"\" Desempenhar busca em matriz sobre o parâmetro the 'max_depth' para uma \n",
    "        árvore de decisão de regressão treinada nos dados de entrada [X, y]. \"\"\"\n",
    "    \n",
    "    # Gerar conjuntos de validação-cruzada para o treinamento de dados \n",
    "    cv_sets = ShuffleSplit(n_splits = 10, test_size = 0.20, random_state = 0)\n",
    "\n",
    "    # TODO: Gerar uma árvore de decisão de regressão de objeto\n",
    "    regressor = DecisionTreeRegressor()\n",
    "\n",
    "    # TODO: Gerar um dicionário para o parâmetro 'max_depth' com um alcance de 1 a 10\n",
    "    params = {'max_depth':range(1,11)}\n",
    "\n",
    "    # TODO: Transformar 'performance_metric' em uma função de pontuação utilizando 'make_scorer' \n",
    "    scoring_fnc = make_scorer(performance_metric)\n",
    "\n",
    "    # TODO: Gerar o objeto de busca em matriz\n",
    "    grid = GridSearchCV(regressor, param_grid=params, scoring=scoring_fnc, cv=cv_sets)\n",
    "\n",
    "    # Ajustar o objeto de busca em matriz com os dados para calcular o modelo ótimo\n",
    "    grid = grid.fit(X, y)\n",
    "\n",
    "    # Devolver o modelo ótimo depois de realizar o ajuste dos dados\n",
    "    return grid.best_estimator_"
   ]
  },
  {
   "cell_type": "markdown",
   "metadata": {},
   "source": [
    "### Fazendo Estimativas\n",
    "Uma vez que o modelo foi treinado em conjunto de dados atribuído, ele agora pode ser utilizado para fazer estimativas em novos conjuntos de entrada de dados. No caso do *regressor da árvore de decisão*, o modelo aprendeu *quais são as melhores perguntas sobre a entrada de dados*, e pode responder com uma estimativa para a **variável alvo**. Você pode utilizar essas estimativas para conseguir informações sobre os dados dos quais o valor da variável alvo é desconhecida – por exemplo, os dados dos quais o modelo não foi treinado."
   ]
  },
  {
   "cell_type": "markdown",
   "metadata": {},
   "source": [
    "### Questão 9 - Modelo Ótimo\n",
    "* Qual profundidade máxima do modelo ótimo? Como esse resultado se compara com a sua suposição na **Questão 6**?  \n",
    "\n",
    "** Executar a célula de código abaixo para ajustar o regressor da árvore de decisão com os dados de treinamento e gerar um modelo ótimo. **"
   ]
  },
  {
   "cell_type": "code",
   "execution_count": 32,
   "metadata": {
    "scrolled": true
   },
   "outputs": [
    {
     "name": "stdout",
     "output_type": "stream",
     "text": [
      "O parâmetro 'max_depth' é 4 para o modelo ótimo.\n"
     ]
    }
   ],
   "source": [
    "# Ajustar os dados de treinamento para o modelo utilizando busca em matriz\n",
    "reg = fit_model(X_train, y_train)\n",
    "\n",
    "# Produzir valores para 'max_depth'\n",
    "print(\"O parâmetro 'max_depth' é {} para o modelo ótimo.\".format(reg.get_params()['max_depth']))"
   ]
  },
  {
   "cell_type": "markdown",
   "metadata": {},
   "source": [
    "**Dica: ** A resposta vem da saída do código acima.\n",
    "\n",
    "**Resposta: **\n",
    "\n",
    "A profundidade máxima do modelo ótimo é 4. O resultado foi bem próximo da minha intuição na questão 6, pensei que o 4, mesmo com score sendo maior seria atrapalhado por uma variancia um pouco maior do que o 3."
   ]
  },
  {
   "cell_type": "markdown",
   "metadata": {},
   "source": [
    "### Questão 10 - Estimando Preços de Venda\n",
    "Imagine que você era um corretor imobiliário na região de Boston ansioso para utilizar esse modelo que ajuda os imóveis que seus clientes desejam vender. Você coletou as seguintes informações de três dos seus clientes:\n",
    "\n",
    "| Atributos | Cliente 1 | Cliente 2 | Cliente 3 |\n",
    "| :---: | :---: | :---: | :---: |\n",
    "| Número total de cômodos em um imóvel | 5 cômodos | 4 cômodos | 8 cômodos |\n",
    "| Nível de pobreza da vizinhança (em %) | 17% | 32% | 3% |\n",
    "| Razão estudante:professor das escolas próximas | 15-to-1 | 22-to-1 | 12-to-1 |\n",
    "* Qual valor você sugeriria para cada um dos seus clientes para a venda de suas casas?\n",
    "* Esses preços parecem razoáveis dados os valores para cada atributo?*  \n",
    "\n",
    "**Dica:** Utilize as estatísticas que você calculou na seção **Explorando Dados** para ajudar a justificar sua resposta. Dos três clientes, o Cliente 3 tem a maior casa, no melhor bairro de escolas públicas e menor inídice de pobreza; Cliente 2 tem a menor casa, em um bairro com índice de pobreza relativamente alto e sem as melhores escolas públicas.\n",
    "\n",
    "** Execute a célula de códigos abaixo para que seu modelo otimizado faça estimativas para o imóvel de cada um dos clientes.**"
   ]
  },
  {
   "cell_type": "code",
   "execution_count": 33,
   "metadata": {},
   "outputs": [
    {
     "name": "stdout",
     "output_type": "stream",
     "text": [
      "Preço estimado para a casa do cliente 1: $409,400.00\n",
      "Preço estimado para a casa do cliente 2: $229,682.35\n",
      "Preço estimado para a casa do cliente 3: $938,053.85\n"
     ]
    }
   ],
   "source": [
    "# Gerar uma matriz para os dados do cliente\n",
    "client_data = [[5, 17, 15], # Cliente 1\n",
    "               [4, 32, 22], # Cliente 2\n",
    "               [8, 3, 12]]  # Cliente 3\n",
    "\n",
    "# Mostrar estimativas\n",
    "for i, price in enumerate(reg.predict(client_data)):\n",
    "    print(\"Preço estimado para a casa do cliente {}: ${:,.2f}\".format(i+1, price))"
   ]
  },
  {
   "cell_type": "markdown",
   "metadata": {},
   "source": [
    "**Resposta: **\n",
    "\n",
    "Cliente 1: Sugiro o valor de $409,400.00.\n",
    "Cliente 2: Sugiro o valor de $229,682.35.\n",
    "Cliente 3: Sugiro o valor de $938,053.85.\n",
    "\n",
    "Os preços acima parecem razoáveis para mim, o cliente 2 principalmente pois tem valores elevados em nivel de pobreza e na razão entre professor e estudante, além de ter um número de comodos abaixo dos outros dois.Isso leva a um valor baixo na venda, o que ainda está acima do valor minimo.\n",
    "O valor elevado do cliente 3 é justo pois tem uma baixa razão entre aluno e professor, além da região ter um nivel de pobreza menor, o que permite cobrar mais, além disso tem o dobro de imóveis do cliente 2.\n",
    "O valor do cliente 1 também é justificável pois está em um meio termo entre os outros dois, estando também bem próximo do preço médio e da mediana.\n"
   ]
  },
  {
   "cell_type": "markdown",
   "metadata": {},
   "source": [
    "### Sensibilidade\n",
    "Um modelo ótimo não é necessariamente um modelo robusto. Às vezes, um modelo é muito complexo ou muito simples para generalizar os novos dados. Às vezes, o modelo pode utilizar um algoritmo de aprendizagem que não é apropriado para a estrutura de dados especificado. Outras vezes, os próprios dados podem ter informação excessiva ou exemplos insuficientes para permitir que o modelo apreenda a variável alvo – ou seja, o modelo não pode ser ajustado.\n",
    "\n",
    "** Execute a célula de código abaixo para rodar a função `fit_model` dez vezes com diferentes conjuntos de treinamento e teste para ver como as estimativas para um cliente específico mudam se os dados foram treinados.**"
   ]
  },
  {
   "cell_type": "code",
   "execution_count": 34,
   "metadata": {},
   "outputs": [
    {
     "name": "stdout",
     "output_type": "stream",
     "text": [
      "Trial 1: $391,183.33\n",
      "Trial 2: $419,700.00\n",
      "Trial 3: $415,800.00\n",
      "Trial 4: $420,622.22\n",
      "Trial 5: $418,377.27\n",
      "Trial 6: $411,931.58\n",
      "Trial 7: $399,663.16\n",
      "Trial 8: $407,232.00\n",
      "Trial 9: $351,577.61\n",
      "Trial 10: $413,700.00\n",
      "\n",
      "Range in prices: $69,044.61\n"
     ]
    }
   ],
   "source": [
    "vs.PredictTrials(features, prices, fit_model, client_data)"
   ]
  },
  {
   "cell_type": "markdown",
   "metadata": {},
   "source": [
    "### Questão 11 - Aplicabilidade\n",
    "* Em poucas linhas, argumente se o modelo construído deve ou não ser utilizado de acordo com as configurações do mundo real.\n",
    "\n",
    "**Dica:** Olhe os valores calculados acima. Algumas questões para responder:\n",
    "* Quão relevante dados coletados em 1978 podem ser nos dias de hoje? A inflação é importante?\n",
    "* Os atributos presentes são suficientes para descrever um imóvel?\n",
    "* Esse modelo é robusto o suficiente para fazer estimativas consistentes?\n",
    "* Dados coletados em uma cidade urbana como Boston podem ser aplicados para uma cidade rural?\n",
    "* É justo julgar o preço de um único imóvel baseado nas características de todo o bairro?"
   ]
  },
  {
   "cell_type": "markdown",
   "metadata": {},
   "source": [
    "**Resposta: **\n",
    "\n",
    "O modelo deve ser usado de acordo com as configurações do mundo real, porém na minha opinião deve haver o acompanhamento do corretor para que haja uma confirmação a mais em comparação com a realidade.\n",
    "A inflação é muito importante, o valor dos imóveis coletados entre 1978 e os dias atuais devem ser ajustado a cada ano para que o modelo seja realmente eficaz.\n",
    "Acredito que poderiam ser adicionado mais atributos como uma métrica que mostra o nivel de segurança do bairro, o acesso ao trasporte público e serviço hospitalar, esses parâmetros são utilizados para calcular o valor de imóveis em grandes cidades como São Paulo.\n",
    "\n",
    "Uma questão interessante \"É justo julgar o preço de um único imóvel baseado nas características de todo o bairro?\": Eu acho que depende, talvez seja injusto pelo fato de um mesmo bairro ter locais mais acessiveis e seguros do que outros. Porém não tenho muito mais argumento para justificar melhor meu ponto de vista."
   ]
  },
  {
   "cell_type": "markdown",
   "metadata": {},
   "source": [
    "> **Nota**: Uma vez que você tenha completado todos os códigos e respondido todas as questões acima, você pode finalizar seu trabalho exportando o iPython Notebook como um documento HTML.\n",
    "Você pode fazer isso usando o menu acima e navegando até\n",
    "* **File -> Download as -> HTML (.html)**\n",
    "* **Arquivo -> Download como -> HTML (.html)**\n",
    "\n",
    "> Inclua o documento gerado junto com esse notebook na sua submissão."
   ]
  }
 ],
 "metadata": {
  "kernelspec": {
   "display_name": "Python 3",
   "language": "python",
   "name": "python3"
  },
  "language_info": {
   "codemirror_mode": {
    "name": "ipython",
    "version": 3
   },
   "file_extension": ".py",
   "mimetype": "text/x-python",
   "name": "python",
   "nbconvert_exporter": "python",
   "pygments_lexer": "ipython3",
   "version": "3.7.1"
  }
 },
 "nbformat": 4,
 "nbformat_minor": 1
}
